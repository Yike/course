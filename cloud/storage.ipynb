{
 "metadata": {
  "name": "",
  "signature": "sha256:8b3c61c5f1135482d677e96bc72977d9c2842abe83347f460ee370e1fa2c845c"
 },
 "nbformat": 3,
 "nbformat_minor": 0,
 "worksheets": [
  {
   "cells": [
    {
     "cell_type": "markdown",
     "metadata": {},
     "source": [
      "Using the Microsoft Azure SDK for Python\n",
      "========================================\n",
      "\n",
      "This tutorial builds on the material provided on several websites of the0 *Microsoft Azure* ecosystem. Additional tutorials and documentation is avilable at the [*Python Developer Center*](http://azure.microsoft.com/en-us/develop/python/)\n",
      "\n",
      "First of all, we need to obtain access to our account using Management Certificates.\n",
      "\n",
      "    openssl req -x509 -nodes -days 365 -newkey rsa:1024 -keyout mycert.pem -out mycert.pem\n",
      "    \n",
      "    openssl x509 -inform pem -in mycert.pem -outform der -out mycert.cer"
     ]
    },
    {
     "cell_type": "code",
     "collapsed": true,
     "input": [
      "# standard library\n",
      "import os\n",
      "import time\n",
      "import shutil\n",
      "\n",
      "# Load Python SDK\n",
      "from azure import *\n",
      "from azure.servicemanagement import *\n",
      "from azure.storage import *\n",
      "\n",
      "# Subscription details\n",
      "subscription_id  = None\n",
      "certificate_path = None\n",
      "\n",
      "# Initialize connection\n",
      "sms = ServiceManagementService(subscription_id, certificate_path)"
     ],
     "language": "python",
     "metadata": {},
     "outputs": []
    },
    {
     "cell_type": "markdown",
     "metadata": {},
     "source": [
      "Setting up a Cloud Service\n",
      "--------------------------"
     ]
    },
    {
     "cell_type": "code",
     "collapsed": false,
     "input": [
      "cs_name, cs_label    = 'softEcon', 'softEcon'\n",
      "cs_desc, cs_location = 'Cloud Service for the softEcon Course', 'West US'\n",
      "\n",
      "sms.create_hosted_service(cs_name, cs_label, cs_desc, cs_location)"
     ],
     "language": "python",
     "metadata": {},
     "outputs": []
    },
    {
     "cell_type": "markdown",
     "metadata": {},
     "source": [
      "Create Storage Account\n",
      "----------------------"
     ]
    },
    {
     "cell_type": "code",
     "collapsed": true,
     "input": [
      "sa_name, sa_label    = 'lecture', 'lecture'\n",
      "sa_desc, sa_location = 'My storage for this lecture.', 'West US'\n",
      "\n",
      "sms.create_storage_account(sa_name, sa_desc, sa_label, location=sa_location)"
     ],
     "language": "python",
     "metadata": {},
     "outputs": []
    },
    {
     "cell_type": "code",
     "collapsed": true,
     "input": [
      "# Get key\n",
      "sa_key = None\n",
      "\n",
      "while sa_key is None:\n",
      "\n",
      "    try:\n",
      "        \n",
      "        sa_key = sms.get_storage_account_keys(service_name=sa_name).storage_service_keys.primary\n",
      "\n",
      "    except WindowsAzureMissingResourceError:\n",
      "        \n",
      "        pass\n",
      "    \n",
      "    time.sleep(5)"
     ],
     "language": "python",
     "metadata": {},
     "outputs": []
    },
    {
     "cell_type": "markdown",
     "metadata": {},
     "source": [
      "Working with Containers\n",
      "-----------------------"
     ]
    },
    {
     "cell_type": "code",
     "collapsed": true,
     "input": [
      "#Initialize connection to storate account\n",
      "blob_service = BlobService(account_name=sa_name, account_key=sa_key)\n",
      "\n",
      "# Specify container\n",
      "cn_names = ['movies', 'pictures']\n",
      "\n",
      "# Create containers\n",
      "for cn_name in cn_names:\n",
      "    \n",
      "    # Public\n",
      "    blob_service.create_container(cn_name, x_ms_blob_public_access='container')"
     ],
     "language": "python",
     "metadata": {},
     "outputs": []
    },
    {
     "cell_type": "markdown",
     "metadata": {},
     "source": [
      "Working with Blobs\n",
      "------------------"
     ]
    },
    {
     "cell_type": "code",
     "collapsed": false,
     "input": [
      "# Create directory structure\n",
      "DOWNLOAD_DIRECTORY, UPLOAD_DIRECTORY = 'downloads/', 'uploads/'\n",
      "\n",
      "os.mkdir(UPLOAD_DIRECTORY), os.mkdir(DOWNLOAD_DIRECTORY)\n",
      "\n",
      "# Create some data\n",
      "bb_names = ['mov1.avi', 'img1.jpg', 'img2.jpg']\n",
      "\n",
      "for bb_name in bb_names:\n",
      "    \n",
      "    file_name = UPLOAD_DIRECTORY + bb_name\n",
      "    \n",
      "    with open(file_name, 'w') as file_:\n",
      "\n",
      "        file_.write('This is some data.')"
     ],
     "language": "python",
     "metadata": {},
     "outputs": []
    },
    {
     "cell_type": "code",
     "collapsed": true,
     "input": [
      "# Select container.\n",
      "def get_container(bb_name):\n",
      "    ''' Get appropriate container for file.\n",
      "    '''\n",
      "    # Sort by file extension\n",
      "    if 'avi' in bb_name:\n",
      "        \n",
      "        cn_name = 'movies'\n",
      "    \n",
      "    elif 'jpg' in bb_name:\n",
      "        \n",
      "        cn_name = 'pictures'\n",
      "        \n",
      "    else:\n",
      "        \n",
      "        raise AssertionError\n",
      "    \n",
      "    # Finishing\n",
      "    return cn_name"
     ],
     "language": "python",
     "metadata": {},
     "outputs": []
    },
    {
     "cell_type": "code",
     "collapsed": false,
     "input": [
      "# Upload Blob into container\n",
      "for bb_name in bb_names:\n",
      "    \n",
      "    # Select container\n",
      "    cn_name = get_container(bb_name)\n",
      "    \n",
      "    # Upload file to container\n",
      "    file_name = UPLOAD_DIRECTORY + bb_name\n",
      "    \n",
      "    blob_service.put_block_blob_from_path(container_name=cn_name, blob_name=bb_name,\n",
      "                    file_path=file_name)\n",
      "\n",
      "    # List content in container\n",
      "    blobs = blob_service.list_blobs(cn_name)"
     ],
     "language": "python",
     "metadata": {},
     "outputs": []
    },
    {
     "cell_type": "code",
     "collapsed": false,
     "input": [
      "# Download Blob from container\n",
      "for bb_name in bb_names:\n",
      "    \n",
      "    # Select container\n",
      "    cn_name = get_container(bb_name)\n",
      "\n",
      "    # Construct file name\n",
      "    file_path = DOWNLOAD_DIRECTORY + bb_name\n",
      "        \n",
      "    # Download Blob\n",
      "    blob_service.get_blob_to_path(container_name=cn_name, blob_name=bb_name,file_path=file_path)\n"
     ],
     "language": "python",
     "metadata": {},
     "outputs": []
    },
    {
     "cell_type": "markdown",
     "metadata": {},
     "source": [
      "Cleaning Up\n",
      "============"
     ]
    },
    {
     "cell_type": "code",
     "collapsed": true,
     "input": [
      "# Delete Blobs\n",
      "for bb_name in bb_names:\n",
      "\n",
      "    cn_name = get_container(bb_name)\n",
      "    \n",
      "    blob_service.delete_blob(container_name=cn_name, blob_name=bb_name)\n",
      "\n",
      "# Deleting container\n",
      "for cn_name in cn_names:\n",
      "    \n",
      "    blob_service.delete_container(cn_name)\n",
      "\n",
      "# Delete storage account\n",
      "sms.delete_storage_account(sa_name)\n",
      "\n",
      "# Delete cloud service\n",
      "sms.delete_hosted_service(cs_name)\n",
      "\n",
      "# Delete directories\n",
      "shutil.rmtree(UPLOAD_DIRECTORY), shutil.rmtree(DOWNLOAD_DIRECTORY)"
     ],
     "language": "python",
     "metadata": {},
     "outputs": []
    },
    {
     "cell_type": "code",
     "collapsed": false,
     "input": [],
     "language": "python",
     "metadata": {},
     "outputs": []
    }
   ],
   "metadata": {}
  }
 ]
}