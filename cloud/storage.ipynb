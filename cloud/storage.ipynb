{
 "metadata": {
  "name": "",
  "signature": "sha256:95cc74c4a8c17c4503a8390f338747a96763ca1176c45c4f3db3620c0bf98e20"
 },
 "nbformat": 3,
 "nbformat_minor": 0,
 "worksheets": [
  {
   "cells": [
    {
     "cell_type": "markdown",
     "metadata": {},
     "source": [
      "Using the Python Development Toolkit\n",
      "====================================\n",
      "\n",
      "This tutorial builds on the material provided by *Microsoft Azure*."
     ]
    },
    {
     "cell_type": "code",
     "collapsed": false,
     "input": [
      "# Loading development tools\n",
      "from azure.storage import BlobService\n",
      "\n",
      "# Details about storage accounts\n",
      "name = 'softecon'\n",
      "key = 'GJm0tQtB+m5DiVNHSTRlVQzUjSfZmegzKYFfR4S8CSVNZzSKcz056qQr7b3ZoeN+4Ky3TLzORzEhQsY4222zHg=='"
     ],
     "language": "python",
     "metadata": {},
     "outputs": [],
     "prompt_number": 2
    },
    {
     "cell_type": "markdown",
     "metadata": {},
     "source": [
      "Working with Containers\n",
      "-----------------------"
     ]
    },
    {
     "cell_type": "code",
     "collapsed": false,
     "input": [
      "#Initialize connection to storate account\n",
      "blob_service = BlobService(account_name = name, account_key = key)\n",
      "\n",
      "''' Create container\n",
      "'''\n",
      "# Private \n",
      "#blob_service.create_container('testing')\n",
      "\n",
      "# Public\n",
      "blob_service.create_container('testing', x_ms_blob_public_access='container')\n",
      "\n",
      "# Set to public access\n",
      "#blob_service.set_container_acl('testing', x_ms_blob_public_access='container')"
     ],
     "language": "python",
     "metadata": {},
     "outputs": [
      {
       "metadata": {},
       "output_type": "pyout",
       "prompt_number": 3,
       "text": [
        "True"
       ]
      }
     ],
     "prompt_number": 3
    },
    {
     "cell_type": "markdown",
     "metadata": {},
     "source": [
      "Working with Blobs\n",
      "------------------"
     ]
    },
    {
     "cell_type": "code",
     "collapsed": false,
     "input": [
      "# Creating some data.\n",
      "with open('data-up.txt', 'w') as file_:\n",
      "    \n",
      "    file_.write('This is some data.')\n",
      "    \n",
      "# Upload Blob into Container\n",
      "blob_service.put_block_blob_from_path(container_name='testing', blob_name='data', \n",
      "                                      file_path='data-up.txt')\n",
      "\n",
      "# List Content in Container\n",
      "blobs = blob_service.list_blobs('testing')\n",
      "\n",
      "for blob in blobs:\n",
      "    print(blob.name)    \n",
      "    \n",
      "# Download Blob\n",
      "blob_service.get_blob_to_path(container_name='testing', blob_name='data', \n",
      "                                      file_path='data-down.txt')\n",
      "\n",
      "# Delete a Blob\n",
      "blob_service.delete_blob(container_name='testing', blob_name='data')"
     ],
     "language": "python",
     "metadata": {},
     "outputs": [
      {
       "output_type": "stream",
       "stream": "stdout",
       "text": [
        "data\n"
       ]
      }
     ],
     "prompt_number": 5
    },
    {
     "cell_type": "markdown",
     "metadata": {},
     "source": [
      "Cleaning Up\n",
      "============"
     ]
    },
    {
     "cell_type": "code",
     "collapsed": false,
     "input": [
      "# Deleting container\n",
      "blob_service.delete_container('testing')"
     ],
     "language": "python",
     "metadata": {},
     "outputs": []
    },
    {
     "cell_type": "code",
     "collapsed": false,
     "input": [],
     "language": "python",
     "metadata": {},
     "outputs": []
    }
   ],
   "metadata": {}
  }
 ]
}