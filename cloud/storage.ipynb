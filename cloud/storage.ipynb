{
 "metadata": {
  "name": "",
  "signature": "sha256:f926c1f814a4e9fe2b874f633fff08239fe8c178dedc8a60f5b8bafe9cf4ef8b"
 },
 "nbformat": 3,
 "nbformat_minor": 0,
 "worksheets": [
  {
   "cells": [
    {
     "cell_type": "markdown",
     "metadata": {},
     "source": [
      "Using the Microsoft Azure SDK for Python\n",
      "========================================\n",
      "\n",
      "This tutorial builds on the material provided by *Microsoft Azure*.\n",
      "\n",
      "First of all, we need to obtain access to our account using Management Certificates.\n",
      "\n",
      "    openssl req -x509 -nodes -days 365 -newkey rsa:1024 -keyout mycert.pem -out mycert.pem\n",
      "    \n",
      "    openssl x509 -inform pem -in mycert.pem -outform der -out mycert.cer"
     ]
    },
    {
     "cell_type": "code",
     "collapsed": true,
     "input": [
      "# Load Python SDK\n",
      "from azure import *\n",
      "from azure.servicemanagement import *\n",
      "from azure.storage import *\n",
      "\n",
      "# Subscription details\n",
      "subscription_id  = None\n",
      "certificate_path = None\n",
      "\n",
      "# Initialize connection\n",
      "sms = ServiceManagementService(subscription_id, certificate_path)"
     ],
     "language": "python",
     "metadata": {},
     "outputs": []
    },
    {
     "cell_type": "markdown",
     "metadata": {},
     "source": [
      "Setting up a Cloud Service\n",
      "--------------------------"
     ]
    },
    {
     "cell_type": "code",
     "collapsed": false,
     "input": [
      "cs_name, cs_label    = 'myhostedservice', 'myhostedservice'\n",
      "cs_desc, cs_location = 'my hosted service', 'West US'\n",
      "\n",
      "sms.create_hosted_service(cs_name, cs_label, cs_desc, cs_location)"
     ],
     "language": "python",
     "metadata": {},
     "outputs": []
    },
    {
     "cell_type": "markdown",
     "metadata": {},
     "source": [
      "Create Storage Account\n",
      "----------------------"
     ]
    },
    {
     "cell_type": "code",
     "collapsed": true,
     "input": [
      "sa_name, sa_label    = 'mystorageaccountxvz', 'mystorageaccountxvz'\n",
      "sa_desc, sa_location = 'My storage account description.', 'West US'\n",
      "\n",
      "sms.create_storage_account(sa_name, sa_desc, sa_label, location=sa_location)"
     ],
     "language": "python",
     "metadata": {},
     "outputs": []
    },
    {
     "cell_type": "code",
     "collapsed": true,
     "input": [
      "# Get keys\n",
      "sa_key = sms.get_storage_account_keys(service_name=sa_name).storage_service_keys.primary"
     ],
     "language": "python",
     "metadata": {},
     "outputs": []
    },
    {
     "cell_type": "markdown",
     "metadata": {},
     "source": [
      "Working with Containers\n",
      "-----------------------"
     ]
    },
    {
     "cell_type": "code",
     "collapsed": true,
     "input": [
      "#Initialize connection to storate account\n",
      "blob_service = BlobService(account_name = sa_name, account_key = sa_key)\n",
      "\n",
      "# Specify container\n",
      "cn_name = 'testing'\n",
      "\n",
      "# Create container\n",
      "blob_service.create_container(cn_name, x_ms_blob_public_access='container')\n",
      "\n",
      "# Private \n",
      "#blob_service.create_container(cn_name)\n",
      "\n",
      "#blob_service.set_container_acl(cn_name, x_ms_blob_public_access='container')"
     ],
     "language": "python",
     "metadata": {},
     "outputs": []
    },
    {
     "cell_type": "markdown",
     "metadata": {},
     "source": [
      "Working with Blobs\n",
      "------------------"
     ]
    },
    {
     "cell_type": "code",
     "collapsed": true,
     "input": [
      "bb_name = 'data'\n",
      "\n",
      "# Creating some data.\n",
      "with open('data-up.txt', 'w') as file_:\n",
      "    \n",
      "    file_.write('This is some data.')\n",
      "    \n",
      "# Upload Blob into Container\n",
      "blob_service.put_block_blob_from_path(container_name=cn_name, blob_name=bb_name,\n",
      "                                      file_path='data-up.txt')\n",
      "\n",
      "# List Content in Container\n",
      "blobs = blob_service.list_blobs(cn_name)\n",
      "\n",
      "for blob in blobs:\n",
      "    print(blob.name)    \n",
      "    \n",
      "# Download Blob\n",
      "blob_service.get_blob_to_path(container_name=cn_name, blob_name=bb_name, \n",
      "                                      file_path='data-down.txt')\n"
     ],
     "language": "python",
     "metadata": {},
     "outputs": []
    },
    {
     "cell_type": "markdown",
     "metadata": {},
     "source": [
      "Cleaning Up\n",
      "============"
     ]
    },
    {
     "cell_type": "code",
     "collapsed": true,
     "input": [
      "# Delete a Blob\n",
      "blob_service.delete_blob(container_name=cn_name, blob_name=bb_name)\n",
      "\n",
      "# Deleting container\n",
      "blob_service.delete_container(cn_name)\n",
      "\n",
      "# Delete storage account\n",
      "sms.delete_storage_account(sa_name)\n",
      "\n",
      "# Delete cloud service\n",
      "sms.delete_hosted_service(cs_name)"
     ],
     "language": "python",
     "metadata": {},
     "outputs": []
    },
    {
     "cell_type": "code",
     "collapsed": false,
     "input": [],
     "language": "python",
     "metadata": {},
     "outputs": []
    }
   ],
   "metadata": {}
  }
 ]
}