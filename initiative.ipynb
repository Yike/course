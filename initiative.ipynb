{
 "metadata": {
  "name": ""
 },
 "nbformat": 3,
 "nbformat_minor": 0,
 "worksheets": [
  {
   "cells": [
    {
     "cell_type": "markdown",
     "metadata": {
      "slideshow": {
       "slide_type": "slide"
      }
     },
     "source": [
      "# Software Engineering for Economists Initiative"
     ]
    },
    {
     "cell_type": "markdown",
     "metadata": {
      "slideshow": {
       "slide_type": "slide"
      }
     },
     "source": [
      "<img src=\"files/msc/softEcon.png\">"
     ]
    },
    {
     "cell_type": "markdown",
     "metadata": {
      "slideshow": {
       "slide_type": "slide"
      }
     },
     "source": [
      "<style>\n",
      "table,td,tr,th {border:none!important}\n",
      "</style>\n",
      "<table>\n",
      "<tr>\n",
      "  <td><li>Big Compute</li>\n",
      "   <ul>\n",
      "    <li>Estimation</li>\n",
      "    <li>Simulation</li>\n",
      "    <li>Perturbation</li>\n",
      "   </ul>\n",
      "  </td>\n",
      "  <td><li>Big Data</li>\n",
      "   <ul>\n",
      "    <li>Storage</li>\n",
      "    <li>Collection</li>\n",
      "    <li>Collaboration</li>\n",
      "   </ul>\n",
      "  </td>\n",
      "</tr>\n",
      "</table>"
     ]
    },
    {
     "cell_type": "markdown",
     "metadata": {
      "slideshow": {
       "slide_type": "slide"
      }
     },
     "source": [
      "## Relevance for Economic Research\n",
      "\n",
      "* ... expand the set of possible economic questions to explore\n",
      "   \n",
      "   \n",
      "* ... improve transparency of implementations\n",
      "   \n",
      "   \n",
      "* ... ensure recomputability of results\n",
      "   \n",
      "   \n",
      "* ... build on and contribute to open science projects\n",
      "   \n",
      "   \n",
      "* ... learn about drivers of the *New Economy*"
     ]
    },
    {
     "cell_type": "markdown",
     "metadata": {
      "slideshow": {
       "slide_type": "slide"
      }
     },
     "source": [
      "## Relevance for Economics Students\n",
      "\n",
      "* ... acquire skills in high demand in private sector\n",
      "   \n",
      "   \n",
      "* ... offer unique expertise as research assistants\n",
      "   \n",
      "   \n",
      "See also the panel on *How Big Data is Changing Economics* with Susan Athey and Hal R. Varian at the Becker Friedman Institute. Available at [http://bit.ly/1cSwCGM](http://bit.ly/1cSwCGM)."
     ]
    },
    {
     "cell_type": "markdown",
     "metadata": {
      "slideshow": {
       "slide_type": "slide"
      }
     },
     "source": [
      "## Basic Skills\n",
      "\n",
      "<style>\n",
      "table,td,tr,th {border:none!important}\n",
      "td {\n",
      "    vertical-align: bottom;\n",
      "}\n",
      "</style>\n",
      "<table>\n",
      "  <tbody>\n",
      "    <tr>\n",
      "      <td>\n",
      "        <ul>\n",
      "          <li>Version Control</li>\n",
      "          <li>Unit Testing</li>\n",
      "          <li>Debugging and Profiling</li>\n",
      "          <li>Code Documentation</li>\n",
      "          <li>Design Patterns</li>\n",
      "        </ul>\n",
      "      </td>\n",
      "      <td>\n",
      "        <ul>\n",
      "          <li>Data Management</li>\n",
      "          <li>Code Optimization</li>\n",
      "          <li>Cloud Computing</li>\n",
      "          <li>Cluster Computing</li>\n",
      "        </ul>\n",
      "      </td>\n",
      "    </tr>\n",
      "  </tbody>\n",
      "</table> "
     ]
    },
    {
     "cell_type": "markdown",
     "metadata": {
      "slideshow": {
       "slide_type": "slide"
      }
     },
     "source": [
      "# Initiative"
     ]
    },
    {
     "cell_type": "markdown",
     "metadata": {
      "slideshow": {
       "slide_type": "slide"
      }
     },
     "source": [
      "## Online Presence\n",
      "\n",
      "* Website: [http://softEcon.github.io](http://softEcon.github.io)\n",
      "\n",
      "\n",
      "* Repository: [https://github.com/softEcon](https://github.com/softEcon)"
     ]
    },
    {
     "cell_type": "markdown",
     "metadata": {
      "slideshow": {
       "slide_type": "slide"
      }
     },
     "source": [
      "## Overview\n",
      "\n",
      "* Components\n",
      "\n",
      "\n",
      "* Tools\n",
      "\n",
      "\n",
      "* Environment"
     ]
    },
    {
     "cell_type": "markdown",
     "metadata": {
      "slideshow": {
       "slide_type": "slide"
      }
     },
     "source": [
      "# *Components*"
     ]
    },
    {
     "cell_type": "markdown",
     "metadata": {
      "slideshow": {
       "slide_type": "slide"
      }
     },
     "source": [
      "## Components\n",
      "\n",
      "<style>\n",
      "table,td,tr,th {border:none!important}\n",
      "</style>\n",
      "<table>\n",
      "  <tbody>\n",
      "    <tr>\n",
      "      <td>\n",
      "        <ul>\n",
      "          <li>Course</li>\n",
      "          <li>Project</li>\n",
      "          <li>Bootcamp</li>\n",
      "        </ul>\n",
      "      </td>\n",
      "      <td>\n",
      "        <ul>\n",
      "          <li>Workshop</li>\n",
      "          <li>Colloquium</li>\n",
      "          <li>Recruiting</li>\n",
      "        </ul>\n",
      "      </td>\n",
      "    </tr>\n",
      "  </tbody>\n",
      "</table>"
     ]
    },
    {
     "cell_type": "markdown",
     "metadata": {
      "slideshow": {
       "slide_type": "slide"
      }
     },
     "source": [
      "## Course\n",
      "\n",
      "We acquire fundamental software engineering skills to tackle computer-intensive economic research projects. These basic techniques allow us to leverage tools from computational science, increase the trans- parency of our implementations, and ensure the recomputability of results. Thus, they expand the set of possible economic questions that we can address and improve the quality of our answers."
     ]
    },
    {
     "cell_type": "markdown",
     "metadata": {
      "slideshow": {
       "slide_type": "slide"
      }
     },
     "source": [
      "## Project\n",
      "\n",
      "The *Project* consists of a contribution to the *Quantitiative Economics* project, an open source library for quantitative economic modeling. We prepare high-quality implementations and documentations of quantitative economic models."
     ]
    },
    {
     "cell_type": "markdown",
     "metadata": {
      "slideshow": {
       "slide_type": "slide"
      }
     },
     "source": [
      "## Bootcamp\n",
      "\n",
      "The *Bootcamp* introduces students to the basics of the *Python* programming language and the *Ubuntu* operating system. It is self-contained but also intended to prepare students for the regular class *Software Engineering for Economists*."
     ]
    },
    {
     "cell_type": "markdown",
     "metadata": {
      "slideshow": {
       "slide_type": "slide"
      }
     },
     "source": [
      "## Workshop\n",
      "\n",
      "The *Workshop* provides an informal meeting of students working on computational research projects. Students present their current work and solicit input from their peers to improve their implementations."
     ]
    },
    {
     "cell_type": "markdown",
     "metadata": {
      "slideshow": {
       "slide_type": "slide"
      }
     },
     "source": [
      "## Computational Economics Colloquium\n",
      "\n",
      "The *Colloquium* offers students a unique opportunity to learn from leading scholars who teach economic modeling, numerical methods, and software engineering. Top researchers in this field will share their innovative approaches throughout the academic year."
     ]
    },
    {
     "cell_type": "markdown",
     "metadata": {
      "slideshow": {
       "slide_type": "slide"
      }
     },
     "source": [
      "## Recruiting\n",
      "\n",
      "Students familiar with basic software engineering skills offer unique expertise as research assistants. Faculty members working on data- or computation-intensive economic research projects use the opportunity to advertise their open positions to course participants."
     ]
    },
    {
     "cell_type": "markdown",
     "metadata": {
      "slideshow": {
       "slide_type": "slide"
      }
     },
     "source": [
      "# *Tools*"
     ]
    },
    {
     "cell_type": "markdown",
     "metadata": {
      "slideshow": {
       "slide_type": "slide"
      }
     },
     "source": [
      "## Tools\n",
      "\n",
      "<style>\n",
      "table,td,tr,th {border:none!important}\n",
      "</style>\n",
      "<table>\n",
      "  <tbody>\n",
      "    <tr>\n",
      "      <td>\n",
      "        <ul>\n",
      "          <li>Python</li>\n",
      "          <li>Ubuntu</li>\n",
      "          <li>Git and GitHub</li>\n",
      "        </ul>\n",
      "      </td>\n",
      "      <td>\n",
      "        <ul>\n",
      "          <li>Microsoft Azure</li>\n",
      "          <li>grmToolbox</li>\n",
      "          <li>Quantitative Economics</li>\n",
      "        </ul>\n",
      "      </td>\n",
      "    </tr>\n",
      "  </tbody>\n",
      "</table>"
     ]
    },
    {
     "cell_type": "markdown",
     "metadata": {
      "slideshow": {
       "slide_type": "slide"
      }
     },
     "source": [
      "* The ***Python*** programming language is accessible to novice programmers seeking to develop software engineering skills, and powerful enough for serious computation. *Python* is used by computer programmers and scientists alike. Thus, it provides the tools used in software engineering as well as numerous libraries for scientific computing. In addition, *Python* is an open source project easily linked with other languages such as *Fortran* and *C*.\n",
      "        \n",
      "    **Website**: [https://www.python.org](https://www.python.org)"
     ]
    },
    {
     "cell_type": "markdown",
     "metadata": {
      "slideshow": {
       "slide_type": "slide"
      }
     },
     "source": [
      "* ***Ubuntu*** is a Linux-based operating system. It is based on the principle of open-source development and users are encouraged to use free software, study how it works, improve upon it, and distribute it. Using *Ubuntu* serves as a preparation for the use of high performance computing clusters, who mostly rely on Linux-based operating system.\n",
      "        \n",
      "    **Website**: [http://www.ubuntu.com](http://www.ubuntu.com)"
     ]
    },
    {
     "cell_type": "markdown",
     "metadata": {
      "slideshow": {
       "slide_type": "slide"
      }
     },
     "source": [
      "* ***Git*** is a free and open source distributed version control system designed to handle everything from small to very large projects with speed and efficiency. It allows to organize code revision in a logical and coherent way and thus ensures recomputability of results. ***GitHub*** is a web-based Git repository hosting service, which offers all of the distributed revision control and source code management (SCM) functionality of *Git* as well as adding its own features.\n",
      "        \n",
      "    **Website:** [http://www.git-scm.com](http://www.git-scm.com)\n",
      "    [https://github.com](https://github.com)"
     ]
    },
    {
     "cell_type": "markdown",
     "metadata": {
      "slideshow": {
       "slide_type": "slide"
      }
     },
     "source": [
      "* ***Microsoft Azure*** is a cloud computing platform which provides the power and scalability required for collaboration, high performance computation, and data-intensive processing. Class participants receive access to the cloud using *Microsoft Azure Academic Passes* for six months.\n",
      "        \n",
      "    **Website:** [http://research.microsoft.com/azure](http://research.microsoft.com/azure)"
     ]
    },
    {
     "cell_type": "markdown",
     "metadata": {
      "slideshow": {
       "slide_type": "slide"
      }
     },
     "source": [
      "* The ***grmToolbox*** is a computer program for the simulation and estimation of the generalized Roy model (Eisenhauer et al., 2015). It is designed as a teaching tool to show how, by acquiring software engineering skills, econometricians can more readily absorb research from computational science, improve the transparency of implementations, and ensure recomputability of results.  \n",
      "        \n",
      "    **Website:** [http://grmToolbox.github.io](http://grmToolbox.github.io)"
     ]
    },
    {
     "cell_type": "markdown",
     "metadata": {
      "slideshow": {
       "slide_type": "slide"
      }
     },
     "source": [
      "* The ***Quantitiative Economics*** website provides a series of lectures on quantitative economic modelling using *Python*. Topics include economic theory and empirics, mathematical and statistical concepts related to quantitative economics, algorithms and numerical methods for studying economic problems, and coding skills.\n",
      "        \n",
      "    **Website:** [http://quant-econ.net](http://quant-econ.net)"
     ]
    },
    {
     "cell_type": "markdown",
     "metadata": {
      "slideshow": {
       "slide_type": "slide"
      }
     },
     "source": [
      "# *Environment*"
     ]
    },
    {
     "cell_type": "markdown",
     "metadata": {
      "slideshow": {
       "slide_type": "slide"
      }
     },
     "source": [
      "## Environment\n",
      "  \n",
      "  * Computation Institute\n",
      "             \n",
      "             \n",
      "  * Social Science Computing Services\n",
      "         \n",
      "         \n",
      "  * Research Computing Center"
     ]
    },
    {
     "cell_type": "markdown",
     "metadata": {
      "slideshow": {
       "slide_type": "slide"
      }
     },
     "source": [
      "## **Computation Institute**\n",
      "  \n",
      "  The *Computation Institute* is a joint initiative between the *University of Chicago* and *Argonne National Laboratory* to advance science through innovative computational approaches. It is a resource center for those collecting and analyzing large quantities of data and detailed numerical simulations of complex phenomena.\n",
      "  \n",
      "  **Website:** [https://www.ci.uchicago.edu](https://www.ci.uchicago.edu)"
     ]
    },
    {
     "cell_type": "markdown",
     "metadata": {
      "slideshow": {
       "slide_type": "slide"
      }
     },
     "source": [
      "## Social Sciences Computing Services\n",
      "\n",
      "*Social Sciences Computing Services* is made up of several distinct support teams that provide several services to the Social Sciences Division such as Desktop and Server Support.\n",
      "\n",
      "**Website:** [https://sscs.uchicago.edu](https://sscs.uchicago.edu)"
     ]
    },
    {
     "cell_type": "markdown",
     "metadata": {
      "slideshow": {
       "slide_type": "slide"
      }
     },
     "source": [
      "## Research Computing Center\n",
      "The *Research Computing Center* is dedicated to providing the *University of Chicago* community a full-service high-performance computing (HPC) center, including visualization resources, access to software, workshops, one-on-one consulting with domain experts, and complete data-management strategies to researchers across all departments and divisions.\n",
      "\n",
      "**Website:** [https://rcc.uchicago.edu](https://rcc.uchicago.edu)"
     ]
    },
    {
     "cell_type": "markdown",
     "metadata": {
      "slideshow": {
       "slide_type": "slide"
      }
     },
     "source": [
      "# *Next Steps ?*"
     ]
    },
    {
     "cell_type": "markdown",
     "metadata": {
      "slideshow": {
       "slide_type": "slide"
      }
     },
     "source": [
      "<img src=\"files/msc/circles.png\">"
     ]
    },
    {
     "cell_type": "markdown",
     "metadata": {
      "slideshow": {
       "slide_type": "slide"
      }
     },
     "source": [
      "#*Contact*"
     ]
    },
    {
     "cell_type": "markdown",
     "metadata": {
      "slideshow": {
       "slide_type": "slide"
      }
     },
     "source": [
      "##Philipp Eisenhauer\n",
      "\n",
      "Mail: [eisenhauer@policy-lab.org](mailto: eisenhauer@policy-lab.org)\n",
      "\n",
      "Web: [http://www.policy-lab.org/peisenha](http://www.policy-lab.org/peisenha)\n",
      "\n",
      "Repository: [https://github.com/peisenha](https://github.com/peisenha)"
     ]
    },
    {
     "cell_type": "markdown",
     "metadata": {
      "slideshow": {
       "slide_type": "slide"
      }
     },
     "source": [
      "# *References*"
     ]
    },
    {
     "cell_type": "markdown",
     "metadata": {
      "slideshow": {
       "slide_type": "slide"
      }
     },
     "source": [
      "Eisenhauer, P., Heckman, J. J., and Vytlacil, E. J. (2015). The Generalized Roy Model and the Cost-Benefit Analysis of Social Programs. *Journal of Political Economy*, 123(2):413-443."
     ]
    }
   ],
   "metadata": {}
  }
 ]
}