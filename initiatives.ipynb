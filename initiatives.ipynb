{
 "cells": [
  {
   "cell_type": "markdown",
   "metadata": {
    "slideshow": {
     "slide_type": "slide"
    }
   },
   "source": [
    "<h1 class=\"title\">Why you should write buggy software with as few features as possible</h1>"
   ]
  },
  {
   "cell_type": "markdown",
   "metadata": {},
   "source": [
    "* In the summer of 2011, I locked myself in our basement and wrote the first version of the 6th incarnation the IPython Notebook\n",
    "* It was full of horrible, annoying bugs\n",
    "* It lacked many features that we consider to be absolutely necessary\n",
    "* This was a deliberate choice we made based on our experience with the first 5 incarnations\n",
    "* Almost overnight, it was broadly adopted by the community and has become a popular and productive tool\n",
    "* It still has many of these bugs and lacks many of the needed features\n",
    "* This has challenged our thinking about software development"
   ]
  },
  {
   "cell_type": "markdown",
   "metadata": {
    "slideshow": {
     "slide_type": "slide"
    }
   },
   "source": [
    "<h1 class=\"bigtitle\">Theory</h1>"
   ]
  },
  {
   "cell_type": "markdown",
   "metadata": {
    "slideshow": {
     "slide_type": "slide"
    }
   },
   "source": [
    "# A theory of software engineering"
   ]
  },
  {
   "cell_type": "markdown",
   "metadata": {},
   "source": [
    "Here is one possible theory of software engineering that we are tempted by:\n",
    "\n",
    "1. Features are good\n",
    "2. Bugs are bad\n",
    "3. Therefore, the ideal software will have lots of features and few bugs\n",
    "4. The number of features and bugs is only limited by developer time\n",
    "5. You shouldn't release software until it has lots of features and few bugs"
   ]
  },
  {
   "cell_type": "markdown",
   "metadata": {
    "slideshow": {
     "slide_type": "slide"
    }
   },
   "source": [
    "# Does this theory generalize?"
   ]
  },
  {
   "cell_type": "markdown",
   "metadata": {},
   "source": [
    "Let's try to generalize this theory to food:\n",
    "\n",
    "1. Ice cream is good\n",
    "2. Vegatables are bad\n",
    "3. Therefore, the ideal diet will involve lots of ice cream and few vegetables\n",
    "4. The amount of ice cream involved is only limited by how much money you have"
   ]
  }
 ],
 "metadata": {
  "kernelspec": {
   "display_name": "Python 2",
   "language": "python",
   "name": "python2"
  },
  "language_info": {
   "codemirror_mode": {
    "name": "ipython",
    "version": 2
   },
   "file_extension": ".py",
   "mimetype": "text/x-python",
   "name": "python",
   "nbconvert_exporter": "python",
   "pygments_lexer": "ipython2",
   "version": "2.7.9"
  }
 },
 "nbformat": 4,
 "nbformat_minor": 0
}
