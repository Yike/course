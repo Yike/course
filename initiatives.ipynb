{
 "cells": [
  {
   "cell_type": "markdown",
   "metadata": {
    "slideshow": {
     "slide_type": "-"
    }
   },
   "source": [
    "# Interactive Financial Analytics  with Python & IPython"
   ]
  },
  {
   "cell_type": "markdown",
   "metadata": {},
   "source": [
    "**Tutorial with Examples based on the VSTOXX Volatility Index**"
   ]
  },
  {
   "cell_type": "markdown",
   "metadata": {},
   "source": [
    "Dr. Yves J. Hilpisch\n",
    "\n",
    "Continuum Analytics Europe GmbH\n",
    "\n",
    "<a href=\"http://www.continuum.io\" target=\"_blank\">www.continuum.io</a>\n",
    "\n",
    "<a href=\"mailto:yves@continuum.io\">yves@continuum.io</a>\n",
    "\n",
    "<a href=\"http://twitter.com/dyjh\" target=\"_blank\">@dyjh</a>\n",
    "\n",
    "For Python Quants &ndash; 14. March 2014"
   ]
  },
  {
   "cell_type": "markdown",
   "metadata": {
    "slideshow": {
     "slide_type": "slide"
    }
   },
   "source": [
    "You find the presentation and the IPython Notebook here:\n",
    "    \n",
    "* <a href=\"http://www.hilpisch.com/YH_FPQ_Volatility_Tutorial.html\" target=\"_blank\">http://www.hilpisch.com/YH_FPQ_Volatility_Tutorial.html</a>\n",
    "* <a href=\"http://www.hilpisch.com/YH_FPQ_Volatility_Tutorial.ipynb\" target=\"_blank\">http://www.hilpisch.com/YH_FPQ_Volatility_Tutorial.ipynb</a>"
   ]
  }
 ],
 "metadata": {
  "kernelspec": {
   "display_name": "Python 2",
   "language": "python",
   "name": "python2"
  },
  "language_info": {
   "codemirror_mode": {
    "name": "ipython",
    "version": 2
   },
   "file_extension": ".py",
   "mimetype": "text/x-python",
   "name": "python",
   "nbconvert_exporter": "python",
   "pygments_lexer": "ipython2",
   "version": "2.7.9"
  }
 },
 "nbformat": 4,
 "nbformat_minor": 0
}
