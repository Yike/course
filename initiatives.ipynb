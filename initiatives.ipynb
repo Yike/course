{
 "cells": [
  {
   "cell_type": "markdown",
   "metadata": {
    "slideshow": {
     "slide_type": "slide"
    }
   },
   "source": [
    "Software Engineering for Economists\n",
    "====================\n",
    "\n",
    "*What I cannot create, I do not understand.*    -Richard Feynman\n"
   ]
  },
  {
   "cell_type": "markdown",
   "metadata": {
    "slideshow": {
     "slide_type": "slide"
    }
   },
   "source": [
    "### Agenda \n",
    "\n",
    "* Class\n",
    "    * Content\n",
    "    * Main Tools\n",
    "    * Group project\n",
    "* Initiatives\n",
    "* Getting Started\n",
    "* We acquire basic software engineering skills to tackle computer intensive economic research projects. During lectures and a group project, we explore the following set of topics:\n",
    "\n",
    "    * Version Control\n",
    "    * Unit Testing\n",
    "    * Debugging and Profiling\n",
    "    * Code Documentation\n",
    "    * Design Patterns\n",
    "    * Data Management \n",
    "    * Code Optimization \n",
    "    * Cloud Computing"
   ]
  }
 ],
 "metadata": {
  "celltoolbar": "Slideshow",
  "kernelspec": {
   "display_name": "Python 2",
   "language": "python",
   "name": "python2"
  },
  "language_info": {
   "codemirror_mode": {
    "name": "ipython",
    "version": 2
   },
   "file_extension": ".py",
   "mimetype": "text/x-python",
   "name": "python",
   "nbconvert_exporter": "python",
   "pygments_lexer": "ipython2",
   "version": "2.7.9"
  }
 },
 "nbformat": 4,
 "nbformat_minor": 0
}
