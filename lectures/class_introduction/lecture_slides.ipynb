{
 "metadata": {
  "name": ""
 },
 "nbformat": 3,
 "nbformat_minor": 0,
 "worksheets": [
  {
   "cells": [
    {
     "cell_type": "markdown",
     "metadata": {
      "slideshow": {
       "slide_type": "slide"
      }
     },
     "source": [
      "*What I cannot create, I do not understand.* \n",
      "\n",
      "                                            - Richard Feynman"
     ]
    },
    {
     "cell_type": "markdown",
     "metadata": {
      "slideshow": {
       "slide_type": "slide"
      }
     },
     "source": [
      "Software Engineering for Economists\n",
      "==================================="
     ]
    },
    {
     "cell_type": "markdown",
     "metadata": {
      "slideshow": {
       "slide_type": "slide"
      }
     },
     "source": [
      "## Agenda \n",
      "\n",
      "* Class\n",
      "    * Content\n",
      "    * Main Tools\n",
      "    * Group project\n",
      "    \n",
      "* Initiatives\n",
      "\n",
      "* Getting Started"
     ]
    },
    {
     "cell_type": "markdown",
     "metadata": {
      "slideshow": {
       "slide_type": "slide"
      }
     },
     "source": [
      "* We acquire basic software engineering skills to tackle computer intensive economic research projects. During lectures and a group project, we explore the following set of topics:\n",
      "\n",
      "    * Version Control\n",
      "    * Unit Testing\n",
      "    * Debugging and Profiling\n",
      "    * Code Documentation\n",
      "    * Design Patterns\n",
      "    * Data Management \n",
      "    * Code Optimization \n",
      "    * Cloud Computing"
     ]
    },
    {
     "cell_type": "markdown",
     "metadata": {
      "slideshow": {
       "slide_type": "slide"
      }
     },
     "source": [
      "## Why?\n",
      "\n",
      "* Research\n",
      "    * ... expand the set of possible economic questions to explore\n",
      "    * ... improve the quality of answers\n",
      "    * ... learn about what is driving the New Economy\n",
      "* Private Sector\n",
      "    * ... acquire skills in high demand (e.g. Finance, Techology)"
     ]
    },
    {
     "cell_type": "markdown",
     "metadata": {
      "slideshow": {
       "slide_type": "slide"
      }
     },
     "source": [
      "# *Main Tools*"
     ]
    },
    {
     "cell_type": "markdown",
     "metadata": {
      "slideshow": {
       "slide_type": "slide"
      }
     },
     "source": [
      "* The ***Python*** programming language is accessible to novice programmers seeking to develop software engineering skills, and powerful enough for serious computation. *Python* is used by computer programmers and scientists alike. Thus, it provides the tools used in software engineering as well as numerous libraries for scientific computing. In addition, *Python* is an open source project easily linked with other languages such as *Fortran* and *C*."
     ]
    },
    {
     "cell_type": "markdown",
     "metadata": {
      "slideshow": {
       "slide_type": "slide"
      }
     },
     "source": [
      "* ***Ubuntu*** is a Linux-based operating system. It is based on the principle of open-source development and users are encouraged to use free software, study how it works, improve upon it, and distribute it. Using *Ubuntu* serves as a preparation for the use of high performance computing clusters, who mostly rely on Linux-based operating system."
     ]
    },
    {
     "cell_type": "markdown",
     "metadata": {
      "slideshow": {
       "slide_type": "slide"
      }
     },
     "source": [
      "* ***Microsoft Azure*** is a cloud computing platform which provides the power and scalability required for collaboration, high performance computation, and data-intensive processing. Class participants receive access to the cloud using *Microsoft Azure Academic Passes* for six months.\n",
      "\n",
      "    * Website: http://research.microsoft.com/azure"
     ]
    },
    {
     "cell_type": "markdown",
     "metadata": {
      "slideshow": {
       "slide_type": "slide"
      }
     },
     "source": [
      "* The ***structToolbox*** is a computer program for the simulation and estimation of a dynamic model of female labor supply decisions (Keane et al., 2011). It is designed as a teaching tool to show how, by acquiring software engineering skills, structural econometricians can more readily absorb research from computational science, improve the transparency of implementations, and ensure recomputability of results.\n",
      "\n",
      "    * Website: http://policy-lab.org/structToolbox"
     ]
    },
    {
     "cell_type": "markdown",
     "metadata": {
      "slideshow": {
       "slide_type": "slide"
      }
     },
     "source": [
      "* The ***Quantitiative Economics*** website provides a series of lectures on quantitative economic modelling using *Python*. Topics include economic theory and empirics, mathematical and statistical concepts related to quantitative economics, algorithms and numerical methods for studying economic problems, and coding skills.\n",
      "\n",
      "    * Website: http://quant-econ.net"
     ]
    },
    {
     "cell_type": "markdown",
     "metadata": {
      "slideshow": {
       "slide_type": "slide"
      }
     },
     "source": [
      "# *Group Project*"
     ]
    },
    {
     "cell_type": "markdown",
     "metadata": {
      "slideshow": {
       "slide_type": "slide"
      }
     },
     "source": [
      "* The group projects consist of a contribution to the ***Quantitiative Economics*** project, an open source library for quantitative economic modeling. Each group prepares a high-quality implementation of a quantitative economic model of their choice. We will build on existing material provided as code supplements to several economic textbooks (see course website for selected references). As the course moves along, we use our newly acquired skills to iteratively improve our workflow and the quality of our implementations. Groups report on their progress and receive feedback in a series of presentations throughout the semester."
     ]
    },
    {
     "cell_type": "markdown",
     "metadata": {
      "slideshow": {
       "slide_type": "slide"
      }
     },
     "source": [
      "# **Initiatives**"
     ]
    },
    {
     "cell_type": "markdown",
     "metadata": {
      "slideshow": {
       "slide_type": "slide"
      }
     },
     "source": [
      "* Courses\n",
      "    * Software Engineering Bootcamp\n",
      "    * Software Engineering for Economists\n",
      "    * Numerical Methods in Economics\n",
      "    \n",
      "* Seminar\n",
      "    * Computational Economics Colloquium\n",
      "    \n",
      "* Infrastructure\n",
      "    * Social Sciences Computing Servicess\n",
      "    * Research Computing Center\n",
      "    * Computation Institute"
     ]
    },
    {
     "cell_type": "markdown",
     "metadata": {
      "slideshow": {
       "slide_type": "slide"
      }
     },
     "source": [
      "# *Courses*"
     ]
    },
    {
     "cell_type": "markdown",
     "metadata": {
      "slideshow": {
       "slide_type": "slide"
      }
     },
     "source": [
      "* **Software Engineering Bootcamp**\n",
      "    * The *Bootcamp* introduces students to the basics of the *Python* programming language and the *Ubuntu* operating system. It is self-contained but also intended to prepare students for the regular class *Software Engineering for Economists*.\n",
      "    * Website: http://www.policy-lab.org/teaching/softecon-bootcamp"
     ]
    },
    {
     "cell_type": "markdown",
     "metadata": {
      "slideshow": {
       "slide_type": "slide"
      }
     },
     "source": [
      "* **Software Engineering for Economists**\n",
      "    * We acquire basic software engineering skills to tackle computer-intensive economic research projects. These basic techniques allow us to leverage tools from computational science, increase the transparency of our implementations, and ensure the recomputability of results. Thus, they expand the set of possible economic questions that we can address and improve the quality of our answers."
     ]
    },
    {
     "cell_type": "markdown",
     "metadata": {
      "slideshow": {
       "slide_type": "slide"
      }
     },
     "source": [
      "* **Numerical Methods for Economists**\n",
      "    * The objective of this course is to introduce graduate students to computational approaches for solving economic models. We will formulate economic problems in computationally tractable form and use techniques from numerical analysis to solve them. We will study examples of computational techniques in the current economics literature as well as discuss areas where these techniques may be useful in future research of economic problems."
     ]
    },
    {
     "cell_type": "markdown",
     "metadata": {
      "slideshow": {
       "slide_type": "slide"
      }
     },
     "source": [
      "# *Seminars*"
     ]
    },
    {
     "cell_type": "markdown",
     "metadata": {
      "slideshow": {
       "slide_type": "slide"
      }
     },
     "source": [
      "* **Computational Economics Colloquium**\n",
      "    * The *Colloquium* offers students a unique opportunity to learn from leading scholars who teach economic modeling, numerical methods, and software engineering. Top researchers in this field will share their innovative approaches throughout the academic year.\n",
      "    * Speakers: Micheal Keane, Victor Zhorin, Andrew Shephard"
     ]
    },
    {
     "cell_type": "markdown",
     "metadata": {
      "slideshow": {
       "slide_type": "slide"
      }
     },
     "source": [
      "# *Infrastructure*"
     ]
    },
    {
     "cell_type": "markdown",
     "metadata": {
      "slideshow": {
       "slide_type": "slide"
      }
     },
     "source": [
      "* **Social Sciences Computing Services**\n",
      "    * *Social Sciences Computing Services* is made up of several distinct support teams that provide several services to the Social Sciences Division such as Desktop and Server Support.\n",
      "    * Website: https://sscs.uchicago.edu"
     ]
    },
    {
     "cell_type": "markdown",
     "metadata": {
      "slideshow": {
       "slide_type": "slide"
      }
     },
     "source": [
      "* **Research Ccomputing Center**\n",
      "    * The *Resarch Computing Center* is dedicated to providing the *University of Chicago* community a full-service high-performance computing (HPC) center, including visualization resources, access to software, workshops, one-on-one consulting with domain experts, and complete data-management strategies to researchers across all departments and divisions.\n",
      "    * Website: https://rcc.uchicago.edu"
     ]
    },
    {
     "cell_type": "markdown",
     "metadata": {
      "slideshow": {
       "slide_type": "slide"
      }
     },
     "source": [
      "* **Computation Institute**\n",
      "    * The *Computation Institute* is a joint initiative between the *University of Chicago* and *Argonne National Laboratory* to advance science through innovative computational approaches. It is a resource center for those collecting and analyzing large quantities of data and detailed numerical simulations of complex phenomena.\n",
      "    * Website: https://www.ci.uchicago.edu"
     ]
    },
    {
     "cell_type": "markdown",
     "metadata": {
      "slideshow": {
       "slide_type": "slide"
      }
     },
     "source": [
      "# **Getting Started**"
     ]
    },
    {
     "cell_type": "markdown",
     "metadata": {
      "slideshow": {
       "slide_type": "slide"
      }
     },
     "source": [
      "* Please visit the class website: \n",
      "http://www.policy-lab.org/teaching/softecon\n",
      "    * Sign up for the class mailing list.\n",
      "    * Download the shared class folder.\n",
      "    * Check out the resources for learning *Python* and *Ubuntu*. \n",
      "    * Prepare your computer for the use of Virtual Machine."
     ]
    },
    {
     "cell_type": "markdown",
     "metadata": {
      "slideshow": {
       "slide_type": "slide"
      }
     },
     "source": [
      "# *What is Next?*"
     ]
    },
    {
     "cell_type": "markdown",
     "metadata": {
      "slideshow": {
       "slide_type": "slide"
      }
     },
     "source": [
      "* **Week 1**\n",
      "    * Monday: Welcome and First Steps\n",
      "    * Wednesday: Basic Explorations into Ubuntu and Python \n",
      "    * Friday: Office Hours"
     ]
    },
    {
     "cell_type": "markdown",
     "metadata": {
      "slideshow": {
       "slide_type": "slide"
      }
     },
     "source": [
      "* **Week 2** \n",
      "    * Monday: Introductory Applications using Python\n",
      "    * Wednesday: Introductory Applications using Python\n",
      "    * Thursday: Computational Economics Colloquium"
     ]
    },
    {
     "cell_type": "markdown",
     "metadata": {
      "slideshow": {
       "slide_type": "slide"
      }
     },
     "source": [
      "# *References*"
     ]
    },
    {
     "cell_type": "markdown",
     "metadata": {
      "slideshow": {
       "slide_type": "slide"
      }
     },
     "source": [
      "Keane, M. P., Todd, P. E., and Wolpin, K. I. (2011). The Structural Estimation of Behavioral Models: Discrete Choice Dynamic Programming Methods and Applications. In Ashenfelter, O. and Card, D., editors, *Handbook of Labor Economics*, volume 4A, pages 331-461. Elsevier Science."
     ]
    }
   ],
   "metadata": {}
  }
 ]
}