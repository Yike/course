{
 "cells": [
  {
   "cell_type": "code",
   "execution_count": 1,
   "metadata": {
    "collapsed": false
   },
   "outputs": [
    {
     "data": {
      "text/html": [
       "/*\n",
       "Placeholder for custom user CSS\n",
       "\n",
       "mainly to be overridden in profile/static/custom/custom.css\n",
       "\n",
       "This will always be an empty file in IPython\n",
       "*/\n",
       "\n",
       "\n",
       "\n",
       "<link href='http://fonts.googleapis.com/css?family=Alegreya+Sans:100,300,400,500,700,800,900,100italic,300italic,400italic,500italic,700italic,800italic,900italic' rel='stylesheet' type='text/css'>\n",
       "<link href='http://fonts.googleapis.com/css?family=Arvo:400,700,400italic' rel='stylesheet' type='text/css'>\n",
       "<link href='http://fonts.googleapis.com/css?family=PT+Mono' rel='stylesheet' type='text/css'>\n",
       "<link href='http://fonts.googleapis.com/css?family=Shadows+Into+Light' rel='stylesheet' type='text/css'>\n",
       "<link href='http://fonts.googleapis.com/css?family=Philosopher:400,700,400italic,700italic' rel='stylesheet' type='text/css'>\n",
       "\n",
       "<style>\n",
       "\n",
       "@font-face {\n",
       "    font-family: \"Computer Modern\";\n",
       "    src: url('http://mirrors.ctan.org/fonts/cm-unicode/fonts/otf/cmunss.otf');\n",
       "}\n",
       "\n",
       "#notebook_panel { /* main background */\n",
       "    background: #888;\n",
       "    color: #f6f6f6;\n",
       "}\n",
       "\n",
       "\n",
       "div.cell { /* set cell width to about 80 chars */\n",
       "    width: 1000px;\n",
       "}\n",
       "\n",
       "div #notebook { /* centre the content */\n",
       "    background: #fff; /* white background for content */\n",
       "    width: 1200px;\n",
       "    margin: auto;\n",
       "    padding-left: 1em;\n",
       "}\n",
       "\n",
       "#notebook li { /* More space between bullet points */\n",
       "margin-top:0.8em;\n",
       "}\n",
       "\n",
       "/* draw border around running cells */\n",
       "div.cell.border-box-sizing.code_cell.running {\n",
       "    border: 3px solid #111;\n",
       "}\n",
       "\n",
       "/* Put a solid color box around each cell and its output, visually linking them together */\n",
       "div.cell.code_cell {\n",
       "    background-color: rgba(171,165,131,0.3); \n",
       "    border-radius: 10px; /* rounded borders */\n",
       "    padding: 1em;\n",
       "    margin-top: 1em;\n",
       "}\n",
       "\n",
       "div.text_cell_render{\n",
       "    font-family: 'Arvo' sans-serif;\n",
       "    line-height: 130%;\n",
       "    font-size: 150%;\n",
       "    width:900px;\n",
       "    margin-left:auto;\n",
       "    margin-right:auto;\n",
       "}\n",
       "\n",
       "/* Formatting for header cells */\n",
       ".text_cell_render h1 {\n",
       "    font-family: 'Philosopher', sans-serif;\n",
       "    font-weight: 400;\n",
       "    font-size: 32pt;\n",
       "    line-height: 100%;\n",
       "    color: rgb(12,85,97);\n",
       "    margin-bottom: 0.1em;\n",
       "    margin-top: 0.1em;\n",
       "    display: block;\n",
       "}\n",
       "\n",
       ".text_cell_render h2 {\n",
       "    font-family: 'Philosopher', serif;\n",
       "    font-weight: 700;\n",
       "    font-size: 24pt;\n",
       "    line-height: 100%;\n",
       "    color: rgb(171,165,131);\n",
       "    margin-bottom: 0.1em;\n",
       "    margin-top: 0.1em;\n",
       "    display: block;\n",
       "}    \n",
       "\n",
       ".text_cell_render h3 {\n",
       "    font-family: 'Philosopher', serif;\n",
       "    margin-top:12px;\n",
       "    margin-bottom: 3px;\n",
       "    font-style: italic;\n",
       "    color: rgb(95,92,72);\n",
       "}\n",
       "\n",
       ".text_cell_render h4 {\n",
       "    font-family: 'Philosopher', serif;\n",
       "}\n",
       "\n",
       ".text_cell_render h5 {\n",
       "    font-family: 'Alegreya Sans', sans-serif;\n",
       "    font-weight: 300;\n",
       "    font-size: 16pt;\n",
       "    color: grey;\n",
       "    font-style: italic;\n",
       "    margin-bottom: .1em;\n",
       "    margin-top: 0.1em;\n",
       "    display: block;\n",
       "}\n",
       "\n",
       ".text_cell_render h6 {\n",
       "    font-family: 'PT Mono', sans-serif;\n",
       "    font-weight: 300;\n",
       "    font-size: 10pt;\n",
       "    color: grey;\n",
       "    margin-bottom: 1px;\n",
       "    margin-top: 1px;\n",
       "}\n",
       "\n",
       ".CodeMirror{\n",
       "        font-family: \"PT Mono\";\n",
       "        font-size: 120%;\n",
       "}\n",
       "\n",
       "</style>"
      ],
      "text/plain": [
       "<IPython.core.display.HTML object>"
      ]
     },
     "execution_count": 1,
     "metadata": {},
     "output_type": "execute_result"
    }
   ],
   "source": [
    "from IPython.core.display import HTML\n",
    "css_file = '../../../../msc/custom.css' \n",
    "HTML(open(css_file, 'r').read()) "
   ]
  },
  {
   "cell_type": "markdown",
   "metadata": {},
   "source": [
    "# *grmpy* Package\n"
   ]
  },
  {
   "cell_type": "markdown",
   "metadata": {},
   "source": [
    "This is a first look at the structure of the *grmpy* package. Packages are a way to structure *Python* namespaces and help to orgainze our code in logical units."
   ]
  },
  {
   "cell_type": "raw",
   "metadata": {},
   "source": [
    "grmpy/\n",
    "\n",
    "  tests/               # This directory collects all functions \n",
    "    __init__.py        # related to the testing of the package.\n",
    "    _auxiliary.py      #\n",
    "    \n",
    "  tools/\n",
    "    economics/         # All functions related to the economics       \n",
    "      __init__.py      # of our version of the generalized Roy  \n",
    "      simulation.py    # model.\n",
    "    \n",
    "    optimization/      # All functions related to the maximum\n",
    "      __init__.py      # likelihood estimation of the model.\n",
    "      estimation.py\n",
    "    \n",
    "    user/              # Some functions that allow the user to \n",
    "      __init__.py      # to interact with the toolbox.\n",
    "      inspection.py\n",
    "      processing.py\n",
    "    \n",
    "  __init__.py"
   ]
  },
  {
   "cell_type": "markdown",
   "metadata": {},
   "source": [
    "Let us take a look at around the package in *PyCharm* in more detail. For example, we will study how to actually distribute a *Python* package across several files and folders. Throughout, we will encounter some very useful feature of our IDE that allow to navigate our *Python* package.\n",
    "\n",
    "For more elaborate versions of *Python* packages I use in my research and teaching, please visit the [grmToolbox](https://github.com/grmToolbox) and the [structToolbox](https://github.com/structToolbox)."
   ]
  },
  {
   "cell_type": "markdown",
   "metadata": {},
   "source": [
    "\n",
    "Before we get started, let us import some basic libraries."
   ]
  },
  {
   "cell_type": "code",
   "execution_count": 2,
   "metadata": {
    "collapsed": false
   },
   "outputs": [
    {
     "name": "stdout",
     "output_type": "stream",
     "text": [
      "Populating the interactive namespace from numpy and matplotlib\n"
     ]
    }
   ],
   "source": [
    "# Time access and conversions\n",
    "import time\n",
    "\n",
    "# Unix Pattern Extensions\n",
    "import glob\n",
    "\n",
    "# System-specific parameters and functions\n",
    "import sys\n",
    "\n",
    "# Operating System Interfaces\n",
    "import os\n",
    "\n",
    "# Plotting \n",
    "import matplotlib.pyplot as plt\n",
    "%pylab inline --no-import-all\n",
    "\n",
    "# Notebook Displays\n",
    "from IPython.display import display, HTML \n",
    "\n",
    "# Importing the grmpy package by editing the PYTHONPATH \n",
    "sys.path.insert(0, 'grmpy')\n",
    "\n",
    "# Package\n",
    "import grmpy as gp\n",
    "\n",
    "# Hidden function\n",
    "from tests._auxiliary import random_init"
   ]
  },
  {
   "cell_type": "markdown",
   "metadata": {},
   "source": [
    "Now that we have an idea about the structure of the package, let us make some simple calls to the public functions. "
   ]
  },
  {
   "cell_type": "code",
   "execution_count": 3,
   "metadata": {
    "collapsed": false
   },
   "outputs": [
    {
     "name": "stdout",
     "output_type": "stream",
     "text": [
      "\r\n",
      " softEcon: Generalized Roy Model\r\n",
      " -------------------------------\r\n",
      "\r\n",
      " Average Treatment Effects\r\n",
      "\r\n",
      "     ATE       -0.39\r\n",
      "\r\n",
      "     TT        -0.43\r\n",
      "\r\n",
      "     TUT       -0.27\r\n",
      "\r\n",
      "\r\n",
      " Parameters\r\n",
      "\r\n",
      "     Start    Finish\r\n",
      "\r\n",
      "      0.50      0.50\r\n",
      "      0.20      0.20\r\n",
      "      0.52      0.52\r\n",
      "      0.52      0.52\r\n",
      "      0.10      0.10\r\n",
      "      0.20      0.20\r\n",
      "      0.30      0.30\r\n",
      "      0.52      0.52\r\n",
      "      0.12      0.12\r\n",
      "      0.25      0.25\r\n",
      "      0.35      0.35\r\n",
      "      0.02      0.02\r\n",
      "      0.02      0.02\r\n",
      "      0.12      0.12\r\n",
      "      0.10      0.10\r\n"
     ]
    }
   ],
   "source": [
    "# Process initialization file\n",
    "init_dict = gp.process('init.ini')\n",
    "\n",
    "# Simulate synthetic sample\n",
    "gp.simulate(init_dict)\n",
    "\n",
    "# Estimate model\n",
    "rslt = gp.estimate(init_dict)\n",
    "\n",
    "# Write results\n",
    "gp.inspect(rslt, init_dict)\n",
    "\n",
    "# Inspect the results\n",
    "%cat results.grm.txt"
   ]
  },
  {
   "cell_type": "markdown",
   "metadata": {},
   "source": [
    "From the perspective of the user, actually nothing changed compared to our implementation of a simple module. How do we get access to the relevant set of functions."
   ]
  },
  {
   "cell_type": "code",
   "execution_count": 4,
   "metadata": {
    "collapsed": false
   },
   "outputs": [
    {
     "data": {
      "text/html": [
       "<html>\r\n",
       "<head>\r\n",
       "<title>grmpy.py</title>\r\n",
       "<meta http-equiv=\"Content-Type\" content=\"text/html; charset=utf-8\">\r\n",
       "<style type=\"text/css\">\n",
       ".ln { color: rgb(0,0,0); font-weight: normal; font-style: normal; }\n",
       ".s0 { color: rgb(128,128,128); font-style: italic; }\n",
       ".s1 { }\n",
       ".s2 { color: rgb(0,0,128); font-weight: bold; }\n",
       "</style>\n",
       "</head>\r\n",
       "<BODY BGCOLOR=\"#ffffff\">\r\n",
       "<TABLE CELLSPACING=0 CELLPADDING=5 COLS=1 WIDTH=\"100%\" BGCOLOR=\"#C0C0C0\" >\r\n",
       "<TR><TD><CENTER>\r\n",
       "<FONT FACE=\"Arial, Helvetica\" COLOR=\"#000000\">\r\n",
       "grmpy.py</FONT>\r\n",
       "</center></TD></TR></TABLE>\r\n",
       "<pre>\r\n",
       "\n",
       "<span class=\"s0\">&quot;&quot;&quot; This module serves as the interface to the basic functions of the \n",
       "    grmpy package. \n",
       "&quot;&quot;&quot;</span><span class=\"s1\"> \n",
       " \n",
       "</span><span class=\"s0\"># Interfaces</span><span class=\"s1\"> \n",
       "</span><span class=\"s2\">from </span><span class=\"s1\">tools.user.processing </span><span class=\"s2\">import </span><span class=\"s1\">process \n",
       "</span><span class=\"s2\">from </span><span class=\"s1\">tools.user.inspection </span><span class=\"s2\">import </span><span class=\"s1\">inspect \n",
       "</span><span class=\"s2\">from </span><span class=\"s1\">tools.economics.simulation </span><span class=\"s2\">import </span><span class=\"s1\">simulate \n",
       "</span><span class=\"s2\">from </span><span class=\"s1\">tools.optimization.estimation </span><span class=\"s2\">import </span><span class=\"s1\">estimate \n",
       " \n",
       "</span></pre>\r\n",
       "</body>\r\n",
       "</html>"
      ],
      "text/plain": [
       "<IPython.core.display.HTML object>"
      ]
     },
     "metadata": {},
     "output_type": "display_data"
    }
   ],
   "source": [
    "display(HTML('images/grmpy.html')) "
   ]
  },
  {
   "cell_type": "markdown",
   "metadata": {},
   "source": [
    "## Exploring Performance"
   ]
  },
  {
   "cell_type": "markdown",
   "metadata": {},
   "source": [
    "There are several implementations of the likelihood function available: slow, fast, and object-oriented. We can select the implementation to use in the initialization file. Let us make sure that the result is the same regardless of the implementation. "
   ]
  },
  {
   "cell_type": "code",
   "execution_count": 5,
   "metadata": {
    "collapsed": false
   },
   "outputs": [],
   "source": [
    "# Set the number of tests to run\n",
    "NUM_TESTS = 1\n",
    "\n",
    "# Run repeated tests\n",
    "for _ in range(NUM_TESTS):\n",
    "\n",
    "    # Generate random request\n",
    "    init_dict = random_init()\n",
    "\n",
    "    # Ensure same starting value. If we choose the random \n",
    "    # starting values instead, the points of evaluation \n",
    "    # differ for the slow and fast implementations.\n",
    "    init_dict['ESTIMATION']['start'] = 'init'\n",
    "\n",
    "    # Simulate sample\n",
    "    gp.simulate(init_dict)\n",
    "    \n",
    "    # Initialize result container\n",
    "    rslt = dict()\n",
    "    \n",
    "    # Estimate generalized Roy model\n",
    "    for version in ['slow', 'fast', 'object']:\n",
    "\n",
    "        init_dict['ESTIMATION']['version'] = version\n",
    "\n",
    "        rslt[version] = gp.estimate(init_dict)['fval']\n",
    "\n",
    "    # Assert equality of results\n",
    "    np.testing.assert_allclose(rslt['slow'], rslt['fast'])\n",
    "    np.testing.assert_allclose(rslt['slow'], rslt['object'])\n",
    "    \n",
    "    # Cleanup\n",
    "    os.remove(init_dict['BASICS']['file'])"
   ]
  },
  {
   "cell_type": "markdown",
   "metadata": {},
   "source": [
    "Let's see how the execution time differes as we increase the number of observations."
   ]
  },
  {
   "cell_type": "code",
   "execution_count": 6,
   "metadata": {
    "collapsed": true
   },
   "outputs": [],
   "source": [
    "# Set grid for varying number of agents\n",
    "agent_grid = range(1000, 10000, 500)\n",
    "\n",
    "# Generate random request\n",
    "init_dict = random_init()\n",
    "\n",
    "# Request single function evaluation\n",
    "init_dict['ESTIMATION']['maxiter'] = 0\n",
    "\n",
    "# Simulate sample\n",
    "rslt = dict()\n",
    "\n",
    "for version in ['slow', 'fast', 'object']:\n",
    "    \n",
    "    # Initialzie container for results\n",
    "    rslt[version] = []\n",
    "    \n",
    "    # Update initialization file\n",
    "    init_dict['ESTIMATION']['version'] = version\n",
    "    \n",
    "    for agents in agent_grid:\n",
    "        \n",
    "        # Update initialization file\n",
    "        init_dict['BASICS']['agents'] = agents\n",
    "        \n",
    "        # Simulate sample\n",
    "        gp.simulate(init_dict)\n",
    "        \n",
    "        # Measure execution time of for estimation\n",
    "        start_time = time.time()\n",
    "\n",
    "        gp.estimate(init_dict)\n",
    "\n",
    "        rslt[version] += [ time.time() - start_time]"
   ]
  },
  {
   "cell_type": "markdown",
   "metadata": {},
   "source": [
    "Now we can easily visualize the difference in performance."
   ]
  },
  {
   "cell_type": "code",
   "execution_count": 7,
   "metadata": {
    "collapsed": false
   },
   "outputs": [
    {
     "data": {
      "image/png": "[encoded data removed]",
      "text/plain": [
       "<matplotlib.figure.Figure at 0x7fdb2485d4d0>"
      ]
     },
     "metadata": {},
     "output_type": "display_data"
    }
   ],
   "source": [
    "# Initialize canvas\n",
    "ax = plt.figure(figsize=(12,8)).add_subplot(111)\n",
    "\n",
    "# Plot execution times by implementations \n",
    "ax.plot(agent_grid, rslt['slow'], label='Slow')\n",
    "ax.plot(agent_grid, rslt['fast'], label='Fast')\n",
    "ax.plot(agent_grid, rslt['object'], label='Object')\n",
    "\n",
    "# Set axis labels\n",
    "ax.set_xlabel('Simulated Agents', fontsize=20)\n",
    "ax.set_ylabel('Execution Time (Seconds)', fontsize=20)\n",
    "\n",
    "# Set up legend\n",
    "ax.legend(loc='upper center', bbox_to_anchor=(0.5, -0.10),\n",
    "    fancybox=False, frameon=False, shadow=False, ncol=3,\n",
    "    fontsize=20)\n",
    "     \n",
    "# Remove first element on y-axis\n",
    "ax.yaxis.get_major_ticks()[0].set_visible(False)"
   ]
  },
  {
   "cell_type": "markdown",
   "metadata": {},
   "source": [
    "What implementation choices are driving these differences in performance?"
   ]
  },
  {
   "cell_type": "code",
   "execution_count": 8,
   "metadata": {
    "collapsed": false
   },
   "outputs": [
    {
     "data": {
      "text/html": [
       "<html>\r\n",
       "<head>\r\n",
       "<title>debug.py</title>\r\n",
       "<meta http-equiv=\"Content-Type\" content=\"text/html; charset=utf-8\">\r\n",
       "<style type=\"text/css\">\n",
       ".ln { color: rgb(0,0,0); font-weight: normal; font-style: normal; }\n",
       ".s0 { color: rgb(0,0,128); font-weight: bold; }\n",
       ".s1 { }\n",
       ".s2 { color: rgb(128,128,128); font-style: italic; }\n",
       ".s3 { color: rgb(0,0,255); }\n",
       "</style>\n",
       "</head>\r\n",
       "<BODY BGCOLOR=\"#ffffff\">\r\n",
       "<TABLE CELLSPACING=0 CELLPADDING=5 COLS=1 WIDTH=\"100%\" BGCOLOR=\"#C0C0C0\" >\r\n",
       "<TR><TD><CENTER>\r\n",
       "<FONT FACE=\"Arial, Helvetica\" COLOR=\"#000000\">\r\n",
       "debug.py</FONT>\r\n",
       "</center></TD></TR></TABLE>\r\n",
       "<pre>\r\n",
       "\n",
       "<span class=\"s0\">def </span><span class=\"s1\">_slow_negative_log_likelihood(args, Y, D, X, Z): \n",
       "    </span><span class=\"s2\">&quot;&quot;&quot; Negative Log-likelihood function of the generalized Roy model. \n",
       "    &quot;&quot;&quot;</span><span class=\"s1\"> \n",
       "    </span><span class=\"s2\"># Distribute arguments</span><span class=\"s1\"> \n",
       "    Y1_coeffs, Y0_coeffs, C_coeffs, choice_coeffs, U1_var, U0_var, U1V_rho, \\ \n",
       "    U0V_rho, V_var, U1_sd, U0_sd, V_sd = _distribute_arguments(args) \n",
       " \n",
       "    </span><span class=\"s2\"># Auxiliary objects</span><span class=\"s1\"> \n",
       "    num_agents = Y.shape[</span><span class=\"s3\">0</span><span class=\"s1\">] \n",
       " \n",
       "    </span><span class=\"s2\"># Initialize containers</span><span class=\"s1\"> \n",
       "    likl = np.tile(np.nan, num_agents) \n",
       "    choice_idx = np.tile(np.nan, num_agents) \n",
       " \n",
       "    </span><span class=\"s2\"># Likelihood construction.</span><span class=\"s1\"> \n",
       "    </span><span class=\"s0\">for </span><span class=\"s1\">i </span><span class=\"s0\">in </span><span class=\"s1\">range(num_agents): \n",
       " \n",
       "        g = np.concatenate((X[i, :], Z[i, :])) \n",
       "        choice_idx[i] = np.dot(choice_coeffs, g) \n",
       " \n",
       "        </span><span class=\"s2\"># Select outcome information</span><span class=\"s1\"> \n",
       "        </span><span class=\"s0\">if </span><span class=\"s1\">D[i] == </span><span class=\"s3\">1.00</span><span class=\"s1\">: \n",
       " \n",
       "            coeffs, rho, sd = Y1_coeffs, U1V_rho, U1_sd \n",
       "        </span><span class=\"s0\">else</span><span class=\"s1\">: \n",
       "            coeffs, rho, sd = Y0_coeffs, U0V_rho, U0_sd \n",
       " \n",
       "        arg_one = (Y[i] - np.dot(coeffs, X[i, :])) / sd \n",
       "        arg_two = (choice_idx[i] - rho * V_sd * arg_one) / \\ \n",
       "                  np.sqrt((</span><span class=\"s3\">1.0 </span><span class=\"s1\">- rho ** </span><span class=\"s3\">2</span><span class=\"s1\">) * V_var) \n",
       " \n",
       "        pdf_evals, cdf_evals = norm.pdf(arg_one), norm.cdf(arg_two) \n",
       " \n",
       "        </span><span class=\"s0\">if </span><span class=\"s1\">D[i] == </span><span class=\"s3\">1.0</span><span class=\"s1\">: \n",
       "            contrib = (</span><span class=\"s3\">1.0 </span><span class=\"s1\">/ float(sd)) * pdf_evals * cdf_evals \n",
       "        </span><span class=\"s0\">else</span><span class=\"s1\">: \n",
       "            contrib = (</span><span class=\"s3\">1.0 </span><span class=\"s1\">/ float(sd)) * pdf_evals * (</span><span class=\"s3\">1.0 </span><span class=\"s1\">- cdf_evals) \n",
       " \n",
       "        likl[i] = contrib \n",
       " \n",
       "    </span><span class=\"s2\"># Transformations.</span><span class=\"s1\"> \n",
       "    likl = -np.mean(np.log(np.clip(likl, </span><span class=\"s3\">1e-20</span><span class=\"s1\">, np.inf))) \n",
       " \n",
       "    </span><span class=\"s2\"># Quality checks.</span><span class=\"s1\"> \n",
       "    </span><span class=\"s0\">assert </span><span class=\"s1\">(isinstance(likl, float)) \n",
       "    </span><span class=\"s0\">assert </span><span class=\"s1\">(np.isfinite(likl)) \n",
       " \n",
       "    </span><span class=\"s2\"># Finishing.</span><span class=\"s1\"> \n",
       "    </span><span class=\"s0\">return </span><span class=\"s1\">likl \n",
       " \n",
       "</span><span class=\"s0\">def </span><span class=\"s1\">_fast_negative_log_likelihood(args, Y, D, X, Z): \n",
       "    </span><span class=\"s2\">&quot;&quot;&quot; Negative Log-likelihood function of the Generalized Roy Model. \n",
       "    &quot;&quot;&quot;</span><span class=\"s1\"> \n",
       "    </span><span class=\"s2\"># Distribute arguments</span><span class=\"s1\"> \n",
       "    Y1_coeffs, Y0_coeffs, C_coeffs, choice_coeffs, U1_var, U0_var, U1V_rho, \\ \n",
       "    U0V_rho, V_var, U1_sd, U0_sd, V_sd = _distribute_arguments(args) \n",
       " \n",
       "    </span><span class=\"s2\"># Likelihood construction.</span><span class=\"s1\"> \n",
       "    G = np.concatenate((X, Z), axis=</span><span class=\"s3\">1</span><span class=\"s1\">) \n",
       "    choice_idx = np.dot(choice_coeffs, G.T) \n",
       " \n",
       "    arg_one = D * (Y - np.dot(Y1_coeffs, X.T)) / U1_sd + \\ \n",
       "             (</span><span class=\"s3\">1 </span><span class=\"s1\">- D) * (Y - np.dot(Y0_coeffs, X.T)) / U0_sd \n",
       " \n",
       "    arg_two = D * (choice_idx - V_sd * U1V_rho * arg_one) / np.sqrt( \n",
       "        (</span><span class=\"s3\">1.0 </span><span class=\"s1\">- U1V_rho ** </span><span class=\"s3\">2</span><span class=\"s1\">) * V_var) + \\ \n",
       "        (</span><span class=\"s3\">1 </span><span class=\"s1\">- D) * (choice_idx - V_sd * U0V_rho * arg_one) / np.sqrt( \n",
       "                 (</span><span class=\"s3\">1.0 </span><span class=\"s1\">- U0V_rho ** </span><span class=\"s3\">2</span><span class=\"s1\">) * V_var) \n",
       " \n",
       "    pdf_evals, cdf_evals = norm.pdf(arg_one), norm.cdf(arg_two) \n",
       " \n",
       "    likl = D * (</span><span class=\"s3\">1.0 </span><span class=\"s1\">/ U1_sd) * pdf_evals * cdf_evals + \\ \n",
       "           (</span><span class=\"s3\">1 </span><span class=\"s1\">- D) * (</span><span class=\"s3\">1.0 </span><span class=\"s1\">/ U0_sd) * pdf_evals * (</span><span class=\"s3\">1.0 </span><span class=\"s1\">- cdf_evals) \n",
       " \n",
       "    </span><span class=\"s2\"># Transformations.</span><span class=\"s1\"> \n",
       "    likl = -np.mean(np.log(np.clip(likl, </span><span class=\"s3\">1e-20</span><span class=\"s1\">, np.inf))) \n",
       " \n",
       "    </span><span class=\"s2\"># Quality checks.</span><span class=\"s1\"> \n",
       "    </span><span class=\"s0\">assert </span><span class=\"s1\">(isinstance(likl, float)) \n",
       "    </span><span class=\"s0\">assert </span><span class=\"s1\">(np.isfinite(likl)) \n",
       " \n",
       "    </span><span class=\"s2\"># Finishing.</span><span class=\"s1\"> \n",
       "    </span><span class=\"s0\">return </span><span class=\"s1\">likl</span></pre>\r\n",
       "</body>\r\n",
       "</html>"
      ],
      "text/plain": [
       "<IPython.core.display.HTML object>"
      ]
     },
     "metadata": {},
     "output_type": "display_data"
    }
   ],
   "source": [
    "display(HTML('images/criterion.html')) "
   ]
  },
  {
   "cell_type": "markdown",
   "metadata": {},
   "source": [
    "## Quality Assurance\n",
    "\n",
    "Is our code working for all the different version of the model we want to be able to estimate? Often, parts of the code are only visited in special cases which results in errors remaining undetected for quite a while. Let us just hit the package with some random requests and see if it all runs. Later, of course, we will focus on whether it is actually working correctly."
   ]
  },
  {
   "cell_type": "code",
   "execution_count": null,
   "metadata": {
    "collapsed": false
   },
   "outputs": [],
   "source": [
    "# Set the number of tests to run\n",
    "NUM_TESTS = 10\n",
    "\n",
    "# Run repeated tests\n",
    "for _ in range(NUM_TESTS):\n",
    "\n",
    "    # Generate random request\n",
    "    init_dict = random_init()\n",
    "    \n",
    "    # Let us restrict attention to either zero or just one \n",
    "    # step of the estimator.\n",
    "    init_dict['ESTIMATION']['maxiter'] = np.random.choice([0, 1])\n",
    "    \n",
    "    # Simulate sample\n",
    "    gp.simulate(init_dict)\n",
    "    \n",
    "    # Estimate model\n",
    "    rslt = gp.estimate(init_dict)\n",
    "\n",
    "    # Write results\n",
    "    gp.inspect(rslt, init_dict)"
   ]
  },
  {
   "cell_type": "markdown",
   "metadata": {},
   "source": [
    "Now, let us finally have a look whether the program actually recovers the true structural parameters."
   ]
  },
  {
   "cell_type": "code",
   "execution_count": null,
   "metadata": {
    "collapsed": false,
    "scrolled": true
   },
   "outputs": [],
   "source": [
    "# Generate random request\n",
    "init_dict = random_init()\n",
    "\n",
    "# Let us make sure to have a setup that is very favourable to\n",
    "# the performance of our estimator for now. In my experience,\n",
    "# small unobserved variability in agent choices and outcomes\n",
    "# and a large agent count does the trick. Of course, later \n",
    "# you would want to investigate the performance of your \n",
    "# estimator for more challenging tasks.\n",
    "for key_ in ['COST', 'TREATED', 'UNTREATED']:\n",
    "    init_dict[key_]['var'] = 0.02\n",
    "\n",
    "init_dict['BASICS']['agents'] = 10000\n",
    "\n",
    "# We need to ensure that the random request actually entails\n",
    "# a serious estimation run.\n",
    "init_dict['ESTIMATION']['maxiter'] = 100\n",
    "init_dict['ESTIMATION']['start'] = 'random'\n",
    "init_dict['ESTIMATION']['version'] = 'fast'\n",
    "init_dict['ESTIMATION']['optimizer'] = 'bfgs'\n",
    "    \n",
    "# Simulate synthetic sample\n",
    "gp.simulate(init_dict)\n",
    "\n",
    "# Estimate model\n",
    "rslt = gp.estimate(init_dict)\n",
    "\n",
    "# Check for convergence, which is very different from our \n",
    "# notion of a SUCCESSFUL estimation run. \n",
    "assert (rslt['success'] is True)\n",
    "\n",
    "# Write results\n",
    "gp.inspect(rslt, init_dict)\n",
    "\n",
    "# Inspect the results\n",
    "%cat results.grm.txt"
   ]
  },
  {
   "cell_type": "markdown",
   "metadata": {},
   "source": [
    "How does this compare to some of the structural parameters we used for the simulation of the dataset?"
   ]
  },
  {
   "cell_type": "code",
   "execution_count": null,
   "metadata": {
    "collapsed": false
   },
   "outputs": [],
   "source": [
    "# Coefficients in the outcome equations\n",
    "print '\\nCoefficients for Outcome'\n",
    "print max(rslt['TREATED']['all'] - init_dict['TREATED']['all'])\n",
    "print max(rslt['UNTREATED']['all'] - init_dict['UNTREATED']['all'])\n",
    "\n",
    "# Correlations\n",
    "print '\\nCorrelations'\n",
    "print rslt['RHO']['treated'] - init_dict['RHO']['treated']\n",
    "print rslt['RHO']['untreated'] - init_dict['RHO']['untreated']\n"
   ]
  },
  {
   "cell_type": "markdown",
   "metadata": {},
   "source": [
    "Let us repeat this exercise, but use the Nelder Mead algorithm instead of BFGS. How does performance differ? What about using different starting values?"
   ]
  },
  {
   "cell_type": "markdown",
   "metadata": {},
   "source": [
    "Let's investigate the performance of our estimator as we increase the variance in the choice equation. We will judge quality of the estimations by the Root-Mean-Squared Error (RMSE). "
   ]
  },
  {
   "cell_type": "code",
   "execution_count": null,
   "metadata": {
    "collapsed": false
   },
   "outputs": [],
   "source": [
    "def rmse(rslt):\n",
    "    \"\"\" Calculate the root-mean squared error.\n",
    "    \"\"\"\n",
    "    # Antibugging\n",
    "    assert (isinstance(rslt, dict))\n",
    "\n",
    "    # Distribute information\n",
    "    x_internal = rslt['AUX']['x_internal']\n",
    "    start_internal = rslt['AUX']['init_values']\n",
    "\n",
    "    # Calculate statistic\n",
    "    rslt = ((x_internal - start_internal) ** 2).mean()\n",
    "\n",
    "    # Antibugging\n",
    "    assert (np.isfinite(rslt))\n",
    "    assert (rslt > 0.0)\n",
    "\n",
    "    # Finishing\n",
    "    return rslt"
   ]
  },
  {
   "cell_type": "code",
   "execution_count": null,
   "metadata": {
    "collapsed": false
   },
   "outputs": [],
   "source": [
    "# Set grid for varying degree of noise\n",
    "noise_grid = range(25)\n",
    "\n",
    "init_dict = gp.process('init.ini')\n",
    "\n",
    "# Simulate synthetic sample\n",
    "rslt = dict()\n",
    "\n",
    "for optimizer in ['bfgs', 'nm']:\n",
    "\n",
    "    # Initialize containers\n",
    "    rslt[optimizer] = []\n",
    "\n",
    "    # Ensure same simulated setup\n",
    "    np.random.seed(123)\n",
    "\n",
    "    for i in noise_grid:\n",
    "\n",
    "        # Increase noise in observed sample\n",
    "        for key_ in ['COST', 'TREATED', 'UNTREATED']:\n",
    "            init_dict[key_]['var'] = 0.01 + i*0.25\n",
    "        \n",
    "        # Simulate dataset\n",
    "        gp.simulate(init_dict)\n",
    "\n",
    "        # Select estimation setup\n",
    "        init_dict['ESTIMATION']['version'] = 'fast'\n",
    "        init_dict['ESTIMATION']['maxiter'] = 10000\n",
    "        init_dict['ESTIMATION']['optimizer'] = optimizer\n",
    "        init_dict['ESTIMATION']['start'] = 'random'\n",
    "\n",
    "        # Calculate performance statistic\n",
    "        stat = rmse(gp.estimate(init_dict))\n",
    "\n",
    "        # Collect results\n",
    "        rslt[optimizer] += [stat]\n"
   ]
  },
  {
   "cell_type": "markdown",
   "metadata": {},
   "source": [
    "Let us visualize the performance."
   ]
  },
  {
   "cell_type": "code",
   "execution_count": null,
   "metadata": {
    "collapsed": false
   },
   "outputs": [],
   "source": [
    "# Initialize canvas\n",
    "ax = plt.figure(figsize=(12,8)).add_subplot(111)\n",
    "\n",
    "# Plot execution times by implementations \n",
    "ax.plot(noise_grid, rslt['bfgs'], label='BFGS')\n",
    "ax.plot(noise_grid, rslt['nm'], label='Nelder-Mead')\n",
    "\n",
    "# Set axis labels\n",
    "ax.set_xlabel('Unobserved Variability', fontsize=20)\n",
    "ax.set_ylabel('Root-Mean-Squared Error', fontsize=20)\n",
    "\n",
    "# Set up legend\n",
    "ax.legend(loc='upper center', bbox_to_anchor=(0.5, -0.10),\n",
    "    fancybox=False, frameon=False, shadow=False, ncol=2,\n",
    "    fontsize=20)\n",
    "     \n",
    "# Remove first element on y-axis\n",
    "ax.yaxis.get_major_ticks()[0].set_visible(False)"
   ]
  },
  {
   "cell_type": "markdown",
   "metadata": {},
   "source": [
    "This concludes this lecture and all that remains done it to clean up."
   ]
  },
  {
   "cell_type": "code",
   "execution_count": null,
   "metadata": {
    "collapsed": true
   },
   "outputs": [],
   "source": [
    "# Create list of all files generated by the grmpy package\n",
    "files = glob.glob('*.grm.*')\n",
    "\n",
    "# Remove files\n",
    "for file_ in files:\n",
    "    \n",
    "    os.remove(file_)"
   ]
  }
 ],
 "metadata": {
  "kernelspec": {
   "display_name": "Python 2",
   "language": "python",
   "name": "python2"
  },
  "language_info": {
   "codemirror_mode": {
    "name": "ipython",
    "version": 2
   },
   "file_extension": ".py",
   "mimetype": "text/x-python",
   "name": "python",
   "nbconvert_exporter": "python",
   "pygments_lexer": "ipython2",
   "version": "2.7.9"
  }
 },
 "nbformat": 4,
 "nbformat_minor": 0
}
