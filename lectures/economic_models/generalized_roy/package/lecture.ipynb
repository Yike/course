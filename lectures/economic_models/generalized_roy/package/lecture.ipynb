{
 "cells": [
  {
   "cell_type": "code",
   "execution_count": 1,
   "metadata": {
    "collapsed": false
   },
   "outputs": [
    {
     "data": {
      "text/html": [
       "/*\n",
       "Placeholder for custom user CSS\n",
       "\n",
       "mainly to be overridden in profile/static/custom/custom.css\n",
       "\n",
       "This will always be an empty file in IPython\n",
       "*/\n",
       "\n",
       "\n",
       "\n",
       "<link href='http://fonts.googleapis.com/css?family=Alegreya+Sans:100,300,400,500,700,800,900,100italic,300italic,400italic,500italic,700italic,800italic,900italic' rel='stylesheet' type='text/css'>\n",
       "<link href='http://fonts.googleapis.com/css?family=Arvo:400,700,400italic' rel='stylesheet' type='text/css'>\n",
       "<link href='http://fonts.googleapis.com/css?family=PT+Mono' rel='stylesheet' type='text/css'>\n",
       "<link href='http://fonts.googleapis.com/css?family=Shadows+Into+Light' rel='stylesheet' type='text/css'>\n",
       "<link href='http://fonts.googleapis.com/css?family=Philosopher:400,700,400italic,700italic' rel='stylesheet' type='text/css'>\n",
       "\n",
       "<style>\n",
       "\n",
       "@font-face {\n",
       "    font-family: \"Computer Modern\";\n",
       "    src: url('http://mirrors.ctan.org/fonts/cm-unicode/fonts/otf/cmunss.otf');\n",
       "}\n",
       "\n",
       "#notebook_panel { /* main background */\n",
       "    background: #888;\n",
       "    color: #f6f6f6;\n",
       "}\n",
       "\n",
       "\n",
       "div.cell { /* set cell width to about 80 chars */\n",
       "    width: 800px;\n",
       "}\n",
       "\n",
       "div #notebook { /* centre the content */\n",
       "    background: #fff; /* white background for content */\n",
       "    width: 1000px;\n",
       "    margin: auto;\n",
       "    padding-left: 1em;\n",
       "}\n",
       "\n",
       "#notebook li { /* More space between bullet points */\n",
       "margin-top:0.8em;\n",
       "}\n",
       "\n",
       "/* draw border around running cells */\n",
       "div.cell.border-box-sizing.code_cell.running {\n",
       "    border: 3px solid #111;\n",
       "}\n",
       "\n",
       "/* Put a solid color box around each cell and its output, visually linking them together */\n",
       "div.cell.code_cell {\n",
       "    background-color: rgba(171,165,131,0.3); \n",
       "    border-radius: 10px; /* rounded borders */\n",
       "    padding: 1em;\n",
       "    margin-top: 1em;\n",
       "}\n",
       "\n",
       "div.text_cell_render{\n",
       "    font-family: 'Arvo' sans-serif;\n",
       "    line-height: 130%;\n",
       "    font-size: 150%;\n",
       "    width:700px;\n",
       "    margin-left:auto;\n",
       "    margin-right:auto;\n",
       "}\n",
       "\n",
       "/* Formatting for header cells */\n",
       ".text_cell_render h1 {\n",
       "    font-family: 'Philosopher', sans-serif;\n",
       "    font-weight: 400;\n",
       "    font-size: 32pt;\n",
       "    line-height: 100%;\n",
       "    color: rgb(12,85,97);\n",
       "    margin-bottom: 0.1em;\n",
       "    margin-top: 0.1em;\n",
       "    display: block;\n",
       "}\n",
       "\n",
       ".text_cell_render h2 {\n",
       "    font-family: 'Philosopher', serif;\n",
       "    font-weight: 700;\n",
       "    font-size: 24pt;\n",
       "    line-height: 100%;\n",
       "    color: rgb(171,165,131);\n",
       "    margin-bottom: 0.1em;\n",
       "    margin-top: 0.1em;\n",
       "    display: block;\n",
       "}    \n",
       "\n",
       ".text_cell_render h3 {\n",
       "    font-family: 'Philosopher', serif;\n",
       "    margin-top:12px;\n",
       "    margin-bottom: 3px;\n",
       "    font-style: italic;\n",
       "    color: rgb(95,92,72);\n",
       "}\n",
       "\n",
       ".text_cell_render h4 {\n",
       "    font-family: 'Philosopher', serif;\n",
       "}\n",
       "\n",
       ".text_cell_render h5 {\n",
       "    font-family: 'Alegreya Sans', sans-serif;\n",
       "    font-weight: 300;\n",
       "    font-size: 16pt;\n",
       "    color: grey;\n",
       "    font-style: italic;\n",
       "    margin-bottom: .1em;\n",
       "    margin-top: 0.1em;\n",
       "    display: block;\n",
       "}\n",
       "\n",
       ".text_cell_render h6 {\n",
       "    font-family: 'PT Mono', sans-serif;\n",
       "    font-weight: 300;\n",
       "    font-size: 10pt;\n",
       "    color: grey;\n",
       "    margin-bottom: 1px;\n",
       "    margin-top: 1px;\n",
       "}\n",
       "\n",
       ".CodeMirror{\n",
       "        font-family: \"PT Mono\";\n",
       "        font-size: 120%;\n",
       "}\n",
       "\n",
       "</style>"
      ],
      "text/plain": [
       "<IPython.core.display.HTML object>"
      ]
     },
     "execution_count": 1,
     "metadata": {},
     "output_type": "execute_result"
    }
   ],
   "source": [
    "from IPython.core.display import HTML\n",
    "css_file = '../../../../msc/custom.css' \n",
    "HTML(open(css_file, 'r').read()) "
   ]
  },
  {
   "cell_type": "markdown",
   "metadata": {},
   "source": [
    "# *grmpy* Package\n"
   ]
  },
  {
   "cell_type": "code",
   "execution_count": 2,
   "metadata": {
    "collapsed": true
   },
   "outputs": [],
   "source": [
    "# standard library\n",
    "import os\n",
    "import sys\n",
    "import numpy as np\n",
    " \n",
    "# edit PYTHONPATH\n",
    "sys.path.insert(0, 'grmpy')\n",
    "\n",
    "# project library\n",
    "import grmpy as gp"
   ]
  },
  {
   "cell_type": "markdown",
   "metadata": {},
   "source": [
    "Let us take a look at around the directory structure and files of the *grmpy* package in *PyCharm*. "
   ]
  },
  {
   "cell_type": "markdown",
   "metadata": {},
   "source": [
    "Now that we have an idea about the structure of the package, let us make some simple calls to the functions"
   ]
  },
  {
   "cell_type": "code",
   "execution_count": 3,
   "metadata": {
    "collapsed": false
   },
   "outputs": [
    {
     "name": "stdout",
     "output_type": "stream",
     "text": [
      "\r\n",
      " softEcon: Generalized Roy Model\r\n",
      " -------------------------------\r\n",
      "\r\n",
      " Average Treatment Effects\r\n",
      "\r\n",
      "     ATE       -0.41\r\n",
      "\r\n",
      "     TT        -1.69\r\n",
      "\r\n",
      "     TUT        0.87\r\n",
      "\r\n",
      "\r\n",
      " Parameters\r\n",
      "\r\n",
      "     Start    Finish\r\n",
      "\r\n",
      "      0.34      0.34\r\n",
      "      0.55      0.55\r\n",
      "      0.58      0.58\r\n",
      "      0.52      0.52\r\n",
      "      0.00      0.00\r\n",
      "      0.99      0.99\r\n",
      "      0.91      0.91\r\n",
      "      0.21      0.21\r\n",
      "      0.29      0.29\r\n",
      "      0.52      0.52\r\n",
      "      0.90      0.90\r\n",
      "      0.98      0.98\r\n",
      "      0.26      0.26\r\n",
      "      0.06      0.06\r\n",
      "      0.31      0.31\r\n"
     ]
    }
   ],
   "source": [
    "# Process initialization file\n",
    "init_dict = gp.process('init.ini')\n",
    "\n",
    "# Simulate synthetic sample\n",
    "gp.simulate(init_dict)\n",
    "\n",
    "# Estimate model\n",
    "rslt = gp.estimate(init_dict)\n",
    "\n",
    "# Write results\n",
    "gp.inspect(rslt, init_dict)\n",
    "\n",
    "# Inspect the results\n",
    "%cat results.txt"
   ]
  },
  {
   "cell_type": "markdown",
   "metadata": {},
   "source": [
    "Is our code working for all the different version of the model we want to be able to estimate? Often, parts of the code are only visited in special cases which results in errors remaining undetected for quite a while. Let us just hit the package with some random requests and see if it all runs. Later, of course, we will focus on whether it is actually working correctly."
   ]
  },
  {
   "cell_type": "code",
   "execution_count": 4,
   "metadata": {
    "collapsed": false
   },
   "outputs": [],
   "source": [
    "# project library\n",
    "from tests._auxiliary import random_init\n",
    "\n",
    "# Set the number of tests to run\n",
    "NUM_TESTS = 10\n",
    "\n",
    "# Run repeated tests\n",
    "for _ in range(NUM_TESTS):\n",
    "\n",
    "    # Generate random request\n",
    "    init_dict = random_init()\n",
    "    \n",
    "    # Let us restrict attention to either zero or just one \n",
    "    # step of the estimator.\n",
    "    init_dict['ESTIMATION']['maxiter'] = np.random.choice([0, 1])\n",
    "    \n",
    "    # Simulate sample\n",
    "    gp.simulate(init_dict)\n",
    "    \n",
    "    # Estimate model\n",
    "    rslt = gp.estimate(init_dict)\n",
    "\n",
    "    # Write results\n",
    "    gp.inspect(rslt, init_dict)\n",
    "    "
   ]
  },
  {
   "cell_type": "markdown",
   "metadata": {},
   "source": [
    "There are several implementations of the likelihood function available: slow, fast, and object. You can select the implementation to use in the initialization file. Let us make sure that the result is the same regardless of the implementation. "
   ]
  },
  {
   "cell_type": "code",
   "execution_count": 5,
   "metadata": {
    "collapsed": false
   },
   "outputs": [],
   "source": [
    "# Set the number of tests to run\n",
    "NUM_TESTS = 1\n",
    "\n",
    "# Run repeated tests\n",
    "for _ in range(NUM_TESTS):\n",
    "\n",
    "    # Generate random request\n",
    "    init_dict = random_init()\n",
    "\n",
    "    # Ensure same starting value. If we choose the random \n",
    "    # starting values instead, the points of evaluation \n",
    "    # differ for the slow and fast implementations.\n",
    "    init_dict['ESTIMATION']['start'] = 'init'\n",
    "\n",
    "    # Simulate sample\n",
    "    gp.simulate(init_dict)\n",
    "\n",
    "    # Estimate generalize Roy model\n",
    "    rslt = dict()\n",
    "\n",
    "    for version in ['slow', 'fast']:\n",
    "\n",
    "        init_dict['ESTIMATION']['version'] = version\n",
    "\n",
    "        rslt[version] = gp.estimate(init_dict)['fval']\n",
    "\n",
    "    # Assert equality of results\n",
    "    np.testing.assert_allclose(rslt['slow'], rslt['fast'])\n",
    "\n",
    "    # Cleanup\n",
    "    os.remove(init_dict['BASICS']['file'])"
   ]
  },
  {
   "cell_type": "markdown",
   "metadata": {},
   "source": [
    "Let's see how the execution time differes as we increase the number of observations."
   ]
  },
  {
   "cell_type": "code",
   "execution_count": 6,
   "metadata": {
    "collapsed": false
   },
   "outputs": [],
   "source": [
    "# standard library\n",
    "import time\n",
    "\n",
    "# Set grid for varying number of agents\n",
    "agent_grid = range(1000, 10000, 500)\n",
    "\n",
    "# Generate random request\n",
    "init_dict = random_init()\n",
    "\n",
    "# Request single function evaluation\n",
    "init_dict['ESTIMATION']['maxiter'] = 0\n",
    "\n",
    "# Simulate sample\n",
    "rslt = dict()\n",
    "\n",
    "for version in ['slow', 'fast']:\n",
    "    \n",
    "    # Initialzie container for results\n",
    "    rslt[version] = []\n",
    "    \n",
    "    # Update initialization file\n",
    "    init_dict['ESTIMATION']['version'] = version\n",
    "    \n",
    "    for agents in agent_grid:\n",
    "        \n",
    "        # Update initialization file\n",
    "        init_dict['BASICS']['agents'] = agents\n",
    "        \n",
    "        # Simulate sample\n",
    "        gp.simulate(init_dict)\n",
    "        \n",
    "        # Measure execution time of for estimation\n",
    "        start_time = time.time()\n",
    "\n",
    "        gp.estimate(init_dict)\n",
    "\n",
    "        rslt[version] += [ time.time() - start_time]"
   ]
  },
  {
   "cell_type": "markdown",
   "metadata": {},
   "source": [
    "Now we can easily visualize the difference in performance."
   ]
  },
  {
   "cell_type": "code",
   "execution_count": 7,
   "metadata": {
    "collapsed": false
   },
   "outputs": [
    {
     "name": "stdout",
     "output_type": "stream",
     "text": [
      "Populating the interactive namespace from numpy and matplotlib\n"
     ]
    },
    {
     "data": {
      "image/png": "[encoded data removed]",
      "text/plain": [
       "<matplotlib.figure.Figure at 0x7fdceeff5050>"
      ]
     },
     "metadata": {},
     "output_type": "display_data"
    }
   ],
   "source": [
    "# standard library\n",
    "import matplotlib.pyplot as plt\n",
    "\n",
    "# Inline rendering of matplotlib graphs\n",
    "%pylab inline\n",
    "\n",
    "# Initialize canvas\n",
    "ax = plt.figure(figsize=(12,8)).add_subplot(111)\n",
    "\n",
    "# Plot execution times by implementations \n",
    "ax.plot(agent_grid, rslt['slow'], label='Slow')\n",
    "ax.plot(agent_grid, rslt['fast'], label='Fast')\n",
    "\n",
    "# Set axis labels\n",
    "ax.set_xlabel('Simulated Agents', fontsize=20)\n",
    "ax.set_ylabel('Execution Time (Seconds)', fontsize=20)\n",
    "\n",
    "# Set up legend\n",
    "ax.legend(loc='upper center', bbox_to_anchor=(0.5, -0.10),\n",
    "    fancybox=False, frameon=False, shadow=False, ncol=2,\n",
    "    fontsize=20)\n",
    "     \n",
    "# Remove first element on y-axis\n",
    "ax.yaxis.get_major_ticks()[0].set_visible(False)"
   ]
  },
  {
   "cell_type": "markdown",
   "metadata": {},
   "source": [
    "Now, let us finally have a look whether the program actually recovers the true structural parameters."
   ]
  },
  {
   "cell_type": "code",
   "execution_count": 8,
   "metadata": {
    "collapsed": false
   },
   "outputs": [
    {
     "name": "stdout",
     "output_type": "stream",
     "text": [
      "\r\n",
      " softEcon: Generalized Roy Model\r\n",
      " -------------------------------\r\n",
      "\r\n",
      " Average Treatment Effects\r\n",
      "\r\n",
      "     ATE        0.37\r\n",
      "\r\n",
      "     TT        -0.26\r\n",
      "\r\n",
      "     TUT        0.60\r\n",
      "\r\n",
      "\r\n",
      " Parameters\r\n",
      "\r\n",
      "     Start    Finish\r\n",
      "\r\n",
      "      0.20     -0.39\r\n",
      "      0.59      0.32\r\n",
      "      0.01     -0.03\r\n",
      "      0.06     -0.24\r\n",
      "      0.77      0.12\r\n",
      "      0.33      0.02\r\n",
      "      0.04      0.02\r\n",
      "      0.38      0.37\r\n",
      "      0.29     -0.19\r\n"
     ]
    }
   ],
   "source": [
    "# Generate random request\n",
    "init_dict = random_init()\n",
    "\n",
    "# Let us make sure to have a setup that is very favourable to\n",
    "# the performance of our estimator for now. In my experience,\n",
    "# small unobserved variability in agent choices and outcomes\n",
    "# and a large agent count does the trick. Of course, later \n",
    "# you would want to investigate the performance of your \n",
    "# estimator for more challenging tasks.\n",
    "for key_ in ['COST', 'TREATED', 'UNTREATED']:\n",
    "    init_dict[key_]['var'] = 0.02\n",
    "\n",
    "init_dict['BASICS']['agents'] = 10000\n",
    "\n",
    "# We need to ensure that the random request actually entails\n",
    "# a serious estimation run.\n",
    "init_dict['ESTIMATION']['maxiter'] = 100\n",
    "init_dict['ESTIMATION']['start'] = 'random'\n",
    "init_dict['ESTIMATION']['version'] = 'fast'\n",
    "init_dict['ESTIMATION']['optimizer'] = 'bfgs'\n",
    "    \n",
    "# Simulate synthetic sample\n",
    "gp.simulate(init_dict)\n",
    "\n",
    "# Estimate model\n",
    "rslt = gp.estimate(init_dict)\n",
    "\n",
    "# Write results\n",
    "gp.inspect(rslt, init_dict)\n",
    "\n",
    "# Inspect the results\n",
    "%cat results.txt"
   ]
  },
  {
   "cell_type": "markdown",
   "metadata": {},
   "source": [
    "How does this compare to some of the structural parameters we used for the simulation of the dataset?"
   ]
  },
  {
   "cell_type": "code",
   "execution_count": 9,
   "metadata": {
    "collapsed": false
   },
   "outputs": [
    {
     "name": "stdout",
     "output_type": "stream",
     "text": [
      "\n",
      "Coefficients for Outcome\n",
      "0.00673434626579\n",
      "-0.00182839798891\n",
      "\n",
      "Correlations\n",
      "-0.0542262722731\n",
      "0.0179526055709\n"
     ]
    }
   ],
   "source": [
    "# Coefficients in the outcome equations\n",
    "print '\\nCoefficients for Outcome'\n",
    "print max(rslt['TREATED']['all'] - init_dict['TREATED']['all'])\n",
    "print max(rslt['UNTREATED']['all'] - init_dict['UNTREATED']['all'])\n",
    "\n",
    "# Correlations\n",
    "print '\\nCorrelations'\n",
    "print rslt['RHO']['treated'] - init_dict['RHO']['treated']\n",
    "print rslt['RHO']['untreated'] - init_dict['RHO']['untreated']\n"
   ]
  },
  {
   "cell_type": "markdown",
   "metadata": {},
   "source": [
    "Let us repeat this exercise, but use the Nelder Mead algorithm instead of BFGS. How does performance differ? What about using different starting values?"
   ]
  },
  {
   "cell_type": "markdown",
   "metadata": {},
   "source": [
    "This concludes this lecture and all that remains done it to clean up."
   ]
  },
  {
   "cell_type": "code",
   "execution_count": 10,
   "metadata": {
    "collapsed": true
   },
   "outputs": [],
   "source": [
    "# standard library\n",
    "import glob\n",
    "\n",
    "# Create list of all files that have the file extension `.txt'.\n",
    "files = glob.glob('*.txt')\n",
    "\n",
    "# Remove files\n",
    "for file_ in files:\n",
    "    \n",
    "    os.remove(file_)"
   ]
  }
 ],
 "metadata": {
  "kernelspec": {
   "display_name": "Python 2",
   "language": "python",
   "name": "python2"
  },
  "language_info": {
   "codemirror_mode": {
    "name": "ipython",
    "version": 2
   },
   "file_extension": ".py",
   "mimetype": "text/x-python",
   "name": "python",
   "nbconvert_exporter": "python",
   "pygments_lexer": "ipython2",
   "version": "2.7.9"
  }
 },
 "nbformat": 4,
 "nbformat_minor": 0
}
