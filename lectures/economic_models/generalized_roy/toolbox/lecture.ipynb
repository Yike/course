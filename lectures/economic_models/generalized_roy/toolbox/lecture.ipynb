{
 "cells": [
  {
   "cell_type": "code",
   "execution_count": 1,
   "metadata": {
    "collapsed": false
   },
   "outputs": [
    {
     "data": {
      "text/html": [
       "/*\n",
       "Placeholder for custom user CSS\n",
       "\n",
       "mainly to be overridden in profile/static/custom/custom.css\n",
       "\n",
       "This will always be an empty file in IPython\n",
       "*/\n",
       "\n",
       "\n",
       "\n",
       "<link href='http://fonts.googleapis.com/css?family=Alegreya+Sans:100,300,400,500,700,800,900,100italic,300italic,400italic,500italic,700italic,800italic,900italic' rel='stylesheet' type='text/css'>\n",
       "<link href='http://fonts.googleapis.com/css?family=Arvo:400,700,400italic' rel='stylesheet' type='text/css'>\n",
       "<link href='http://fonts.googleapis.com/css?family=PT+Mono' rel='stylesheet' type='text/css'>\n",
       "<link href='http://fonts.googleapis.com/css?family=Shadows+Into+Light' rel='stylesheet' type='text/css'>\n",
       "<link href='http://fonts.googleapis.com/css?family=Philosopher:400,700,400italic,700italic' rel='stylesheet' type='text/css'>\n",
       "\n",
       "<style>\n",
       "\n",
       "@font-face {\n",
       "    font-family: \"Computer Modern\";\n",
       "    src: url('http://mirrors.ctan.org/fonts/cm-unicode/fonts/otf/cmunss.otf');\n",
       "}\n",
       "\n",
       "#notebook_panel { /* main background */\n",
       "    background: #888;\n",
       "    color: #f6f6f6;\n",
       "}\n",
       "\n",
       "\n",
       "div.cell { /* set cell width to about 80 chars */\n",
       "    width: 1000px;\n",
       "}\n",
       "\n",
       "div #notebook { /* centre the content */\n",
       "    background: #fff; /* white background for content */\n",
       "    width: 1200px;\n",
       "    margin: auto;\n",
       "    padding-left: 1em;\n",
       "}\n",
       "\n",
       "#notebook li { /* More space between bullet points */\n",
       "margin-top:0.8em;\n",
       "}\n",
       "\n",
       "/* draw border around running cells */\n",
       "div.cell.border-box-sizing.code_cell.running {\n",
       "    border: 3px solid #111;\n",
       "}\n",
       "\n",
       "/* Put a solid color box around each cell and its output, visually linking them together */\n",
       "div.cell.code_cell {\n",
       "    background-color: rgba(171,165,131,0.3); \n",
       "    border-radius: 10px; /* rounded borders */\n",
       "    padding: 1em;\n",
       "    margin-top: 1em;\n",
       "}\n",
       "\n",
       "div.text_cell_render{\n",
       "    font-family: 'Arvo' sans-serif;\n",
       "    line-height: 130%;\n",
       "    font-size: 150%;\n",
       "    width:900px;\n",
       "    margin-left:auto;\n",
       "    margin-right:auto;\n",
       "}\n",
       "\n",
       "/* Formatting for header cells */\n",
       ".text_cell_render h1 {\n",
       "    font-family: 'Philosopher', sans-serif;\n",
       "    font-weight: 400;\n",
       "    font-size: 32pt;\n",
       "    line-height: 100%;\n",
       "    color: rgb(12,85,97);\n",
       "    margin-bottom: 0.1em;\n",
       "    margin-top: 0.1em;\n",
       "    display: block;\n",
       "}\n",
       "\n",
       ".text_cell_render h2 {\n",
       "    font-family: 'Philosopher', serif;\n",
       "    font-weight: 700;\n",
       "    font-size: 24pt;\n",
       "    line-height: 100%;\n",
       "    color: rgb(171,165,131);\n",
       "    margin-bottom: 0.1em;\n",
       "    margin-top: 0.1em;\n",
       "    display: block;\n",
       "}    \n",
       "\n",
       ".text_cell_render h3 {\n",
       "    font-family: 'Philosopher', serif;\n",
       "    margin-top:12px;\n",
       "    margin-bottom: 3px;\n",
       "    font-style: italic;\n",
       "    color: rgb(95,92,72);\n",
       "}\n",
       "\n",
       ".text_cell_render h4 {\n",
       "    font-family: 'Philosopher', serif;\n",
       "}\n",
       "\n",
       ".text_cell_render h5 {\n",
       "    font-family: 'Alegreya Sans', sans-serif;\n",
       "    font-weight: 300;\n",
       "    font-size: 16pt;\n",
       "    color: grey;\n",
       "    font-style: italic;\n",
       "    margin-bottom: .1em;\n",
       "    margin-top: 0.1em;\n",
       "    display: block;\n",
       "}\n",
       "\n",
       ".text_cell_render h6 {\n",
       "    font-family: 'PT Mono', sans-serif;\n",
       "    font-weight: 300;\n",
       "    font-size: 10pt;\n",
       "    color: grey;\n",
       "    margin-bottom: 1px;\n",
       "    margin-top: 1px;\n",
       "}\n",
       "\n",
       ".CodeMirror{\n",
       "        font-family: \"PT Mono\";\n",
       "        font-size: 120%;\n",
       "}\n",
       "\n",
       "</style>"
      ],
      "text/plain": [
       "<IPython.core.display.HTML object>"
      ]
     },
     "execution_count": 1,
     "metadata": {},
     "output_type": "execute_result"
    }
   ],
   "source": [
    "from IPython.core.display import HTML\n",
    "css_file = '../../../../msc/custom.css' \n",
    "HTML(open(css_file, 'r').read()) "
   ]
  },
  {
   "cell_type": "markdown",
   "metadata": {},
   "source": [
    "# *grmToolbox* \n",
    "\n",
    "Let us check out our [online](https://github.com/grmtoolbox) presence on *GitHub*. We also have prepared some [online documentation](http://grmtoolbox.github.io/) using *GitHub Pages*."
   ]
  },
  {
   "cell_type": "markdown",
   "metadata": {},
   "source": [
    "Before we get started, let us import some basic libraries."
   ]
  },
  {
   "cell_type": "code",
   "execution_count": 8,
   "metadata": {
    "collapsed": true
   },
   "outputs": [],
   "source": [
    "# Unix Pattern Extensions\n",
    "import glob\n",
    "\n",
    "# System-specific parameters and functions\n",
    "import sys\n",
    "\n",
    "# Operating System Interfaces\n",
    "import os\n",
    "\n",
    "# High-level File Operations\n",
    "import shutil"
   ]
  },
  {
   "cell_type": "markdown",
   "metadata": {},
   "source": [
    "Download the recent release:"
   ]
  },
  {
   "cell_type": "code",
   "execution_count": 14,
   "metadata": {
    "collapsed": false
   },
   "outputs": [
    {
     "name": "stdout",
     "output_type": "stream",
     "text": [
      "grmToolbox-1.1.0/\n",
      "grmToolbox-1.1.0/COPYING\n",
      "grmToolbox-1.1.0/README.md\n",
      "grmToolbox-1.1.0/__init__.py\n",
      "grmToolbox-1.1.0/bin/\n",
      "grmToolbox-1.1.0/bin/grmToolbox-clean\n",
      "grmToolbox-1.1.0/bin/grmToolbox-estimate\n",
      "grmToolbox-1.1.0/bin/grmToolbox-perturb\n",
      "grmToolbox-1.1.0/bin/grmToolbox-simulate\n",
      "grmToolbox-1.1.0/bin/grmToolbox-terminate\n",
      "grmToolbox-1.1.0/clsCrit.py\n",
      "grmToolbox-1.1.0/clsEffects.py\n",
      "grmToolbox-1.1.0/clsGrm.py\n",
      "grmToolbox-1.1.0/clsMax.py\n",
      "grmToolbox-1.1.0/clsMeta.py\n",
      "grmToolbox-1.1.0/clsModel.py\n",
      "grmToolbox-1.1.0/clsParas.py\n",
      "grmToolbox-1.1.0/clsRequest.py\n",
      "grmToolbox-1.1.0/clsRslt.py\n",
      "grmToolbox-1.1.0/dat/\n",
      "grmToolbox-1.1.0/dat/testData_A.dat\n",
      "grmToolbox-1.1.0/dat/testInit_A.ini\n",
      "grmToolbox-1.1.0/dat/testInit_B.ini\n",
      "grmToolbox-1.1.0/dat/testInit_C.ini\n",
      "grmToolbox-1.1.0/dat/testInit_D.ini\n",
      "grmToolbox-1.1.0/dat/testInit_E.ini\n",
      "grmToolbox-1.1.0/example/\n",
      "grmToolbox-1.1.0/example/dataset.dat\n",
      "grmToolbox-1.1.0/example/init.ini\n",
      "grmToolbox-1.1.0/grmToolbox.py\n",
      "grmToolbox-1.1.0/modMaxInterface.py\n",
      "grmToolbox-1.1.0/scripts/\n",
      "grmToolbox-1.1.0/scripts/__init__.py\n",
      "grmToolbox-1.1.0/scripts/clean.py\n",
      "grmToolbox-1.1.0/scripts/estimate.py\n",
      "grmToolbox-1.1.0/scripts/perturb.py\n",
      "grmToolbox-1.1.0/scripts/simulate.py\n",
      "grmToolbox-1.1.0/scripts/terminate.py\n",
      "grmToolbox-1.1.0/tests/\n",
      "grmToolbox-1.1.0/tests/__init__.py\n",
      "grmToolbox-1.1.0/tests/testParasCls.py\n",
      "grmToolbox-1.1.0/tests/wscript\n",
      "grmToolbox-1.1.0/tools/\n",
      "grmToolbox-1.1.0/tools/__init__.py\n",
      "grmToolbox-1.1.0/tools/initFile/\n",
      "grmToolbox-1.1.0/tools/initFile/__init__.py\n",
      "grmToolbox-1.1.0/tools/initFile/_checkInput.py\n",
      "grmToolbox-1.1.0/tools/initFile/_createDictionary.py\n",
      "grmToolbox-1.1.0/tools/initFile/_createModel.py\n",
      "grmToolbox-1.1.0/tools/initFile/_createParas.py\n",
      "grmToolbox-1.1.0/tools/initFile/_createRequest.py\n",
      "grmToolbox-1.1.0/tools/initFile/interface.py\n",
      "grmToolbox-1.1.0/tools/modAuxiliaryFunctions.py\n",
      "grmToolbox-1.1.0/tools/runPyScript.py\n",
      "grmToolbox-1.1.0/waf\n",
      "grmToolbox-1.1.0/wscript\n"
     ]
    },
    {
     "name": "stderr",
     "output_type": "stream",
     "text": [
      "--2015-05-12 16:27:09--  https://github.com/grmToolbox/grmToolbox/archive/v1.1.0.tar.gz\n",
      "Resolving github.com (github.com)... 192.30.252.131\n",
      "Connecting to github.com (github.com)|192.30.252.131|:443... connected.\n",
      "HTTP request sent, awaiting response... 302 Found\n",
      "Location: https://codeload.github.com/grmToolbox/grmToolbox/tar.gz/v1.1.0 [following]\n",
      "--2015-05-12 16:27:09--  https://codeload.github.com/grmToolbox/grmToolbox/tar.gz/v1.1.0\n",
      "Resolving codeload.github.com (codeload.github.com)... 192.30.252.147\n",
      "Connecting to codeload.github.com (codeload.github.com)|192.30.252.147|:443... connected.\n",
      "HTTP request sent, awaiting response... 200 OK\n",
      "Length: 610808 (596K) [application/x-gzip]\n",
      "Saving to: ‘grmToolbox.tar.gz’\n",
      "\n",
      "     0K .......... .......... .......... .......... ..........  8% 1,02M 1s\n",
      "    50K .......... .......... .......... .......... .......... 16%  639K 1s\n",
      "   100K .......... .......... .......... .......... .......... 25% 27,7M 0s\n",
      "   150K .......... .......... .......... .......... .......... 33% 1,72M 0s\n",
      "   200K .......... .......... .......... .......... .......... 41% 1,23M 0s\n",
      "   250K .......... .......... .......... .......... .......... 50% 2,15M 0s\n",
      "   300K .......... .......... .......... .......... .......... 58% 2,96M 0s\n",
      "   350K .......... .......... .......... .......... .......... 67% 2,34M 0s\n",
      "   400K .......... .......... .......... .......... .......... 75% 2,03M 0s\n",
      "   450K .......... .......... .......... .......... .......... 83% 1,02M 0s\n",
      "   500K .......... .......... .......... .......... .......... 92% 3,33M 0s\n",
      "   550K .......... .......... .......... .......... ......    100% 2,29M=0,4s\n",
      "\n",
      "2015-05-12 16:27:10 (1,61 MB/s) - ‘grmToolbox.tar.gz’ saved [610808/610808]\n",
      "\n"
     ]
    }
   ],
   "source": [
    "%%bash\n",
    "\n",
    "# Download archived file to working directory\n",
    "wget -O grmToolbox.tar.gz https://github.com/grmToolbox/grmToolbox/archive/v1.1.0.tar.gz\n",
    "\n",
    "# Unpack file\n",
    "tar -xvf grmToolbox.tar.gz\n",
    "\n",
    "# Renaming\n",
    "mv grmToolbox-1.1.0 grmToolbox"
   ]
  },
  {
   "cell_type": "markdown",
   "metadata": {},
   "source": [
    "## Explore\n",
    "\n",
    "Let us explore the capabilities of the toolbox following the [online documentation](http://grmtoolbox.github.io). For a more advanced example of a computational toolbox, check out my [structToolbox](http://structtoolbox.github.io)."
   ]
  },
  {
   "cell_type": "markdown",
   "metadata": {},
   "source": [
    "## Cleanup"
   ]
  },
  {
   "cell_type": "code",
   "execution_count": 15,
   "metadata": {
    "collapsed": false
   },
   "outputs": [],
   "source": [
    "# Create list of all files generated by the notebook\n",
    "files  = glob.glob('grmToolbox*')\n",
    "\n",
    "files += glob.glob('example')\n",
    "\n",
    "# Remove files\n",
    "for file_ in files:\n",
    "    try:\n",
    "        os.remove(file_)\n",
    "    except OSError:\n",
    "        shutil.rmtree(file_)"
   ]
  }
 ],
 "metadata": {
  "kernelspec": {
   "display_name": "Python 2",
   "language": "python",
   "name": "python2"
  },
  "language_info": {
   "codemirror_mode": {
    "name": "ipython",
    "version": 2
   },
   "file_extension": ".py",
   "mimetype": "text/x-python",
   "name": "python",
   "nbconvert_exporter": "python",
   "pygments_lexer": "ipython2",
   "version": "2.7.9"
  }
 },
 "nbformat": 4,
 "nbformat_minor": 0
}
