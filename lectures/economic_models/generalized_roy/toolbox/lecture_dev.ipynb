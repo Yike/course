{
 "cells": [
  {
   "cell_type": "code",
   "execution_count": null,
   "metadata": {
    "collapsed": false
   },
   "outputs": [],
   "source": [
    "from IPython.core.display import HTML, Image\n",
    "css_file = '../../../../msc/custom.css' \n",
    "HTML(open(css_file, 'r').read()) "
   ]
  },
  {
   "cell_type": "markdown",
   "metadata": {},
   "source": [
    "# *grmToolbox* \n",
    "\n",
    "Let us consider the different roles we play when estimating the generalized Roy model in our research."
   ]
  },
  {
   "cell_type": "code",
   "execution_count": null,
   "metadata": {
    "collapsed": false
   },
   "outputs": [],
   "source": [
    "Image(filename='images/venn_diagram.png', width=1000)"
   ]
  },
  {
   "cell_type": "markdown",
   "metadata": {},
   "source": [
    "Building a toolbox is an attempt to separate the roles as much as possible. \n"
   ]
  },
  {
   "cell_type": "markdown",
   "metadata": {},
   "source": [
    "Let us check out our [online](https://github.com/grmtoolbox) presence on *GitHub*. We also have prepared some [online documentation](http://grmtoolbox.github.io/) using *GitHub Pages*. Before we get started, let us import some basic libraries."
   ]
  },
  {
   "cell_type": "code",
   "execution_count": null,
   "metadata": {
    "collapsed": true
   },
   "outputs": [],
   "source": [
    "# Unix Pattern Extensions\n",
    "import glob\n",
    "\n",
    "# System-specific parameters and functions\n",
    "import sys\n",
    "\n",
    "# Operating System Interfaces\n",
    "import os\n",
    "\n",
    "# Scientific Computing \n",
    "import numpy as np\n",
    "\n",
    "# High-level File Operations\n",
    "import shutil"
   ]
  },
  {
   "cell_type": "markdown",
   "metadata": {},
   "source": [
    "Download the recent release:"
   ]
  },
  {
   "cell_type": "code",
   "execution_count": null,
   "metadata": {
    "collapsed": false
   },
   "outputs": [],
   "source": [
    "raise AssertionError, 'code missing ...'"
   ]
  },
  {
   "cell_type": "markdown",
   "metadata": {},
   "source": [
    "Before we turn to the program’s features, we need to modify our *PATH* variable quick access to the controls. "
   ]
  },
  {
   "cell_type": "code",
   "execution_count": null,
   "metadata": {
    "collapsed": false
   },
   "outputs": [],
   "source": [
    "# String that prepends to PATH\n",
    "str_ = 'export PATH=' + os.getcwd() + '/grmToolbox/bin:$PATH'\n",
    "\n",
    "# Construct absolute path of $HOME/.profile\n",
    "FIlE = os.environ['HOME'] + '/.profile'\n",
    "\n",
    "# Check if path already extended\n",
    "PATH_UNDEFINED = (str_ in open(FIlE).read())\n",
    "\n",
    "# Modify $HOME/.profile\n",
    "if not PATH_UNDEFINED:\n",
    "    with open(FIlE, 'a') as file_:\n",
    "        file_.write(str_ + '\\n')"
   ]
  },
  {
   "cell_type": "markdown",
   "metadata": {},
   "source": [
    "## Explore\n",
    "\n",
    "Let us explore the capabilities of the toolbox following the [online documentation](http://grmtoolbox.github.io). For a more advanced example of a computational toolbox, check out [structToolbox](http://structtoolbox.github.io)."
   ]
  },
  {
   "cell_type": "markdown",
   "metadata": {},
   "source": [
    "Again, the model and our estimation request is stated in our initialization file. Details are available [here](http://grmtoolbox.github.io/programInstructions.html)."
   ]
  },
  {
   "cell_type": "code",
   "execution_count": null,
   "metadata": {
    "collapsed": false
   },
   "outputs": [],
   "source": [
    "Image(filename='images/init.png')"
   ]
  },
  {
   "cell_type": "markdown",
   "metadata": {},
   "source": [
    "**Commands**\n",
    "\n",
    "* *grmToolbox-estimate*\n",
    "        Run an estimation with the current configuration\n",
    "\n",
    "* *grmToolbox-simulate*\n",
    "        Create data simulated using the current values of the \n",
    "        structural parameters.\n",
    "\n",
    "* *grmToolbox-terminate*\n",
    "        Terminate the optimization algorithm.\n",
    "\n",
    "* *grmToolbox-perturb*\n",
    "        Perturb the current set of structural parameters.\n",
    "\n",
    "* *grmToolbox-clean*\n",
    "        Cleanup after estimation run\n",
    "        \n",
    "We can use the terminal to obtain additional information about these commands."
   ]
  },
  {
   "cell_type": "code",
   "execution_count": null,
   "metadata": {
    "collapsed": false
   },
   "outputs": [],
   "source": [
    "raise AssertionError, 'code missing ...'"
   ]
  },
  {
   "cell_type": "markdown",
   "metadata": {},
   "source": [
    "Let's now turn to the example."
   ]
  },
  {
   "cell_type": "code",
   "execution_count": null,
   "metadata": {
    "collapsed": false
   },
   "outputs": [],
   "source": [
    "raise AssertionError, 'code missing ...'"
   ]
  },
  {
   "cell_type": "markdown",
   "metadata": {},
   "source": [
    "An estimation run creates some additional new files."
   ]
  },
  {
   "cell_type": "code",
   "execution_count": null,
   "metadata": {
    "collapsed": false
   },
   "outputs": [],
   "source": [
    "%%bash\n",
    "\n",
    "# Change into the working directory\n",
    "cd example\n",
    "\n",
    "# Let's have a look at the information they provide\n",
    "echo ''\n",
    "echo ' Documentation of Optimization Process'\n",
    "echo ' -------------------------------------'\n",
    "echo ''\n",
    "cat grmToolbox.grm.log  # Documentation of optimization process\n",
    "\n",
    "echo ''\n",
    "echo ' Starting Values'\n",
    "echo ' ---------------'\n",
    "echo ''\n",
    "cat startParas.grm.out  # Starting values\n",
    "\n",
    "echo ''\n",
    "echo ' Estimated Values'\n",
    "echo ' ----------------'\n",
    "echo ''\n",
    "cat stepParas.grm.out   # Final values of the structural parameters\n",
    "\n",
    "echo ''\n",
    "echo ' Results for Treatment Effects'\n",
    "echo ' -----------------------------'\n",
    "echo ''\n",
    "cat rslt.grm.log        # Result for the treatment effects"
   ]
  },
  {
   "cell_type": "markdown",
   "metadata": {},
   "source": [
    "After perturbing the parameter values, we can easily restart the estimation."
   ]
  },
  {
   "cell_type": "code",
   "execution_count": null,
   "metadata": {
    "collapsed": false
   },
   "outputs": [],
   "source": [
    "raise AssertionError, 'code missing ...'"
   ]
  },
  {
   "cell_type": "markdown",
   "metadata": {},
   "source": [
    "Assume that you just finished an estimation run on actual data. What is a good way to gain some confidence in your results? Let $M(\\psi)$ denote the structural model parametrized by $\\psi$, which is fit to the observed data $D^{obs}$ to produce an estimated set of parameters $\\psi^{obs}$. \n",
    "\n",
    "The following Monte-Carlo exercise at least provides some indication:"
   ]
  },
  {
   "cell_type": "code",
   "execution_count": null,
   "metadata": {
    "collapsed": false
   },
   "outputs": [],
   "source": [
    "Image(filename='images/monte_carlo.png', width=1000)"
   ]
  },
  {
   "cell_type": "markdown",
   "metadata": {},
   "source": [
    "Using the initial estimates as the parametrization for the Monte Carlo exercise ensures that important features of the data-generating process, such as unobserved variability in agent behaviors, are accounted for. In Step 2, it is crucial to follow the same estimation approach applied to the original data as closely as possible, for example, choice of starting values. This exercise showcases the performance of the estimator in a favorable setting as the model is correctly specified. If the structural parameters $\\psi^{syn}$ are successfully recovered, this is encour-\n",
    "aging but does not provide a definite proof of the performance in the observed data. A failure, however, offers reason for concern."
   ]
  },
  {
   "cell_type": "markdown",
   "metadata": {},
   "source": [
    "Given the design of the toolbox, implementing the idea is straightforward."
   ]
  },
  {
   "cell_type": "code",
   "execution_count": null,
   "metadata": {
    "collapsed": false
   },
   "outputs": [],
   "source": [
    "raise AssertionError, 'code missing ...'"
   ]
  },
  {
   "cell_type": "markdown",
   "metadata": {},
   "source": [
    "Let us compare true structural parameters of the simulated sample with the results from the second estimation run."
   ]
  },
  {
   "cell_type": "code",
   "execution_count": null,
   "metadata": {
    "collapsed": false
   },
   "outputs": [],
   "source": [
    "# Load true and estimated parameters\n",
    "true_values = np.loadtxt('example/simulation.paras.grm.out')\n",
    "est_values = np.loadtxt('example/stepParas.grm.out')\n",
    "start_values = np.loadtxt('example/startParas.grm.out')\n",
    "\n",
    "# Auxiliary objects\n",
    "num_paras = len(true_values)\n",
    "\n",
    "# Formatting\n",
    "fmt = '{0:10.2f}{1:10.2f}{2:10.2f}{3:10.2f}'\n",
    "\n",
    "# Print both parameters\n",
    "print '     Start  Estimate     Truth    Difference \\n'\n",
    "for i in range(num_paras):\n",
    "            \n",
    "    start, est, true = start_values[i], est_values[i], true_values[i]\n",
    "\n",
    "    diff = est - true\n",
    "    \n",
    "    print fmt.format(start, est, true, diff)\n"
   ]
  },
  {
   "cell_type": "markdown",
   "metadata": {},
   "source": [
    "## Cleanup"
   ]
  },
  {
   "cell_type": "code",
   "execution_count": null,
   "metadata": {
    "collapsed": false
   },
   "outputs": [],
   "source": [
    "# Create list of all files generated by the notebook\n",
    "files  = glob.glob('grmToolbox*')\n",
    "\n",
    "files += glob.glob('example')\n",
    "\n",
    "# Remove files\n",
    "for file_ in files:\n",
    "    try:\n",
    "        os.remove(file_)\n",
    "    except OSError:\n",
    "        shutil.rmtree(file_)"
   ]
  }
 ],
 "metadata": {
  "kernelspec": {
   "display_name": "Python 2",
   "language": "python",
   "name": "python2"
  },
  "language_info": {
   "codemirror_mode": {
    "name": "ipython",
    "version": 2
   },
   "file_extension": ".py",
   "mimetype": "text/x-python",
   "name": "python",
   "nbconvert_exporter": "python",
   "pygments_lexer": "ipython2",
   "version": "2.7.9"
  }
 },
 "nbformat": 4,
 "nbformat_minor": 0
}
