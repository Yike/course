{
 "cells": [
  {
   "cell_type": "code",
   "execution_count": 1,
   "metadata": {
    "collapsed": false
   },
   "outputs": [
    {
     "data": {
      "text/html": [
       "/*\n",
       "Placeholder for custom user CSS\n",
       "\n",
       "mainly to be overridden in profile/static/custom/custom.css\n",
       "\n",
       "This will always be an empty file in IPython\n",
       "*/\n",
       "\n",
       "\n",
       "\n",
       "<link href='http://fonts.googleapis.com/css?family=Alegreya+Sans:100,300,400,500,700,800,900,100italic,300italic,400italic,500italic,700italic,800italic,900italic' rel='stylesheet' type='text/css'>\n",
       "<link href='http://fonts.googleapis.com/css?family=Arvo:400,700,400italic' rel='stylesheet' type='text/css'>\n",
       "<link href='http://fonts.googleapis.com/css?family=PT+Mono' rel='stylesheet' type='text/css'>\n",
       "<link href='http://fonts.googleapis.com/css?family=Shadows+Into+Light' rel='stylesheet' type='text/css'>\n",
       "<link href='http://fonts.googleapis.com/css?family=Philosopher:400,700,400italic,700italic' rel='stylesheet' type='text/css'>\n",
       "\n",
       "<style>\n",
       "\n",
       "@font-face {\n",
       "    font-family: \"Computer Modern\";\n",
       "    src: url('http://mirrors.ctan.org/fonts/cm-unicode/fonts/otf/cmunss.otf');\n",
       "}\n",
       "\n",
       "#notebook_panel { /* main background */\n",
       "    background: #888;\n",
       "    color: #f6f6f6;\n",
       "}\n",
       "\n",
       "\n",
       "div.cell { /* set cell width to about 80 chars */\n",
       "    width: 1000px;\n",
       "}\n",
       "\n",
       "div #notebook { /* centre the content */\n",
       "    background: #fff; /* white background for content */\n",
       "    width: 1200px;\n",
       "    margin: auto;\n",
       "    padding-left: 1em;\n",
       "}\n",
       "\n",
       "#notebook li { /* More space between bullet points */\n",
       "margin-top:0.8em;\n",
       "}\n",
       "\n",
       "/* draw border around running cells */\n",
       "div.cell.border-box-sizing.code_cell.running {\n",
       "    border: 3px solid #111;\n",
       "}\n",
       "\n",
       "/* Put a solid color box around each cell and its output, visually linking them together */\n",
       "div.cell.code_cell {\n",
       "    background-color: rgba(171,165,131,0.3); \n",
       "    border-radius: 10px; /* rounded borders */\n",
       "    padding: 1em;\n",
       "    margin-top: 1em;\n",
       "}\n",
       "\n",
       "div.text_cell_render{\n",
       "    font-family: 'Arvo' sans-serif;\n",
       "    line-height: 130%;\n",
       "    font-size: 150%;\n",
       "    width:900px;\n",
       "    margin-left:auto;\n",
       "    margin-right:auto;\n",
       "}\n",
       "\n",
       "/* Formatting for header cells */\n",
       ".text_cell_render h1 {\n",
       "    font-family: 'Philosopher', sans-serif;\n",
       "    font-weight: 400;\n",
       "    font-size: 32pt;\n",
       "    line-height: 100%;\n",
       "    color: rgb(12,85,97);\n",
       "    margin-bottom: 0.1em;\n",
       "    margin-top: 0.1em;\n",
       "    display: block;\n",
       "}\n",
       "\n",
       ".text_cell_render h2 {\n",
       "    font-family: 'Philosopher', serif;\n",
       "    font-weight: 700;\n",
       "    font-size: 24pt;\n",
       "    line-height: 100%;\n",
       "    color: rgb(171,165,131);\n",
       "    margin-bottom: 0.1em;\n",
       "    margin-top: 0.1em;\n",
       "    display: block;\n",
       "}    \n",
       "\n",
       ".text_cell_render h3 {\n",
       "    font-family: 'Philosopher', serif;\n",
       "    margin-top:12px;\n",
       "    margin-bottom: 3px;\n",
       "    font-style: italic;\n",
       "    color: rgb(95,92,72);\n",
       "}\n",
       "\n",
       ".text_cell_render h4 {\n",
       "    font-family: 'Philosopher', serif;\n",
       "}\n",
       "\n",
       ".text_cell_render h5 {\n",
       "    font-family: 'Alegreya Sans', sans-serif;\n",
       "    font-weight: 300;\n",
       "    font-size: 16pt;\n",
       "    color: grey;\n",
       "    font-style: italic;\n",
       "    margin-bottom: .1em;\n",
       "    margin-top: 0.1em;\n",
       "    display: block;\n",
       "}\n",
       "\n",
       ".text_cell_render h6 {\n",
       "    font-family: 'PT Mono', sans-serif;\n",
       "    font-weight: 300;\n",
       "    font-size: 10pt;\n",
       "    color: grey;\n",
       "    margin-bottom: 1px;\n",
       "    margin-top: 1px;\n",
       "}\n",
       "\n",
       ".CodeMirror{\n",
       "        font-family: \"PT Mono\";\n",
       "        font-size: 120%;\n",
       "}\n",
       "\n",
       "</style>"
      ],
      "text/plain": [
       "<IPython.core.display.HTML object>"
      ]
     },
     "execution_count": 1,
     "metadata": {},
     "output_type": "execute_result"
    }
   ],
   "source": [
    "from IPython.core.display import HTML\n",
    "css_file = '../../msc/custom.css' \n",
    "HTML(open(css_file, 'r').read())"
   ]
  },
  {
   "cell_type": "markdown",
   "metadata": {},
   "source": [
    "# Object-Oriented Programming\n",
    "\n",
    "\n",
    "In this lecture, we will study Object-Oriented Programming (OOP) and discover that there is a tight link between this programming paradimg and economics. To keep economics front and center, we will explore the usefulness of the OOP paradigm by implementing a seminal paper by Gary Becker.\n",
    "\n",
    "> Gary S. Becker (1962). Irrational Behavior and Economic Theory, *Journal of Political Economy*, 70(1): 1-13.\n",
    "\n",
    "**Roadmap**\n",
    "* Basics of Object-Oriented Programming\n",
    "* Irrational Behavior and Economic Theory\n",
    " * Implementation\n"
   ]
  },
  {
   "cell_type": "markdown",
   "metadata": {},
   "source": [
    "## Basics of Object-Oriented Programming\n",
    "\n",
    "What are the potential advantages of an OOP implementation?\n",
    "\n",
    "* Modularization of Code, i.e. grouping of data and functions\n",
    "* Elegance of Implementation\n",
    "* Understanding of Problem\n",
    "\n",
    "Keywords:\n",
    "\n",
    "* Encapsulation\n",
    "* Inheritance\n",
    "* Polymorphism\n",
    "\n",
    "You will see all these elements in our implementation of Becker (1962). However, let us start with a strip down example of object-oriented programming."
   ]
  },
  {
   "cell_type": "code",
   "execution_count": 2,
   "metadata": {
    "collapsed": false
   },
   "outputs": [
    {
     "name": "stdout",
     "output_type": "stream",
     "text": [
      " Let us have a look at the demand for the two goods: \n",
      "... using the demand() method       (5, 3)\n",
      "... accessing the class attributes  (5, 3)\n"
     ]
    }
   ],
   "source": [
    "class Agent:\n",
    "    def __init__(self, endowment):\n",
    "        \"\"\" Initialize agents with endowment.\n",
    "        \"\"\"\n",
    "        # Endowment\n",
    "        self.endowment = endowment\n",
    "\n",
    "        # Demands \n",
    "        self.butter = None\n",
    "        self.milk = None\n",
    "        \n",
    "    def choose(self, price_butter, price_milk):\n",
    "        \"\"\" Allocate half of endowment to each\n",
    "            of the two goods.\n",
    "        \"\"\"\n",
    "        self.butter = self.endowment/price_butter\n",
    "        self.milk   = self.endowment/price_milk\n",
    "        \n",
    "    def get_demands(self):\n",
    "        \"\"\" Return demands.\n",
    "        \"\"\"\n",
    "        return self.butter, self.milk\n",
    "    \n",
    "\n",
    "# Initialize and agent with an endowment\n",
    "ENDOWMENT, PRICE_BUTTER, PRICE_MILK = 10, 2, 3\n",
    "\n",
    "agent_obj = Agent(ENDOWMENT)\n",
    "\n",
    "agent_obj.choose(PRICE_BUTTER, PRICE_MILK)\n",
    "\n",
    "print ' Let us have a look at the demand for the two goods: '\n",
    "print '... using the demand() method      ', agent_obj.get_demands()\n",
    "print '... accessing the class attributes ', (agent_obj.butter, agent_obj.milk)\n"
   ]
  },
  {
   "cell_type": "markdown",
   "metadata": {},
   "source": [
    "## Irrational Behavior and Economics Theory\n",
    "\n",
    "The purpose of the paper is ...\n",
    "> to show how important theorems of modern economics result from general principle which not only includes rational behavior and survival arguments as special cases, but also much more irrational behavior. \n",
    "\n",
    "Becker's main conclusion follows:\n",
    "\n",
    "> .. economic theory is much more compatible with irrational behavior than had previoulsy been suspected.  \n",
    "\n",
    "In particular, Becker studies the robustness of the fundamental theorem of household demand:\n",
    "\n",
    "> .. that the demand curve for any commodity, real income held constant, must be negatively inclined.  "
   ]
  },
  {
   "cell_type": "markdown",
   "metadata": {},
   "source": [
    "Figure 1 allows us to briefly discuss the traditional theory. \n",
    "\n",
    "<img src=\"images/figure_1.png\">"
   ]
  },
  {
   "cell_type": "markdown",
   "metadata": {},
   "source": [
    "Let us use Figure 2 to discuss a more general approach.\n",
    "\n",
    "<img src=\"images/figure_2.png\">"
   ]
  },
  {
   "cell_type": "markdown",
   "metadata": {},
   "source": [
    "Overall Becker concludes:\n",
    "\n",
    "> The fundamental theorem of traditional theory - that demand curves are negatively declined - largely results from the change in opportunities alone and is largely independent of the decicion rule.\n",
    "\n",
    "In an nutshell, even an irrational agent has to live within his means. "
   ]
  },
  {
   "cell_type": "markdown",
   "metadata": {},
   "source": [
    "### Implementation"
   ]
  },
  {
   "cell_type": "code",
   "execution_count": 3,
   "metadata": {
    "collapsed": false
   },
   "outputs": [
    {
     "name": "stdout",
     "output_type": "stream",
     "text": [
      "Populating the interactive namespace from numpy and matplotlib\n"
     ]
    }
   ],
   "source": [
    "# Fundamental Numerical Methods\n",
    "import numpy as np\n",
    "\n",
    "# System-specific parameters and functions\n",
    "import sys\n",
    "\n",
    "# Plotting \n",
    "import matplotlib.pyplot as plt\n",
    "%pylab inline --no-import-all\n",
    "\n",
    "# Adding the modules subdirectory\n",
    "sys.path.insert(0, 'modules')\n",
    "\n",
    "# Project library\n",
    "from clsAgent import *\n",
    "from clsEconomy import *"
   ]
  },
  {
   "cell_type": "markdown",
   "metadata": {},
   "source": [
    "Let us set some basic parameters for our illustration:"
   ]
  },
  {
   "cell_type": "code",
   "execution_count": 4,
   "metadata": {
    "collapsed": true
   },
   "outputs": [],
   "source": [
    "NUM_AGENTS = 1000  # Number of agents in the population\n",
    "\n",
    "ENDOWMENT = 10.0  # Endowments of agents\n",
    "\n",
    "ALPHA = 0.75      # Utility weights\n",
    "\n",
    "P1 = 1.0          # Price of first good (Numeraire)\n",
    "\n",
    "NUM_POINTS = 25   # Number of points for grid of proce changes\n",
    "\n",
    "# Construct grid for price changes.\n",
    "PRICE_GRID = np.linspace(P1, 10, num=NUM_POINTS)"
   ]
  },
  {
   "cell_type": "markdown",
   "metadata": {},
   "source": [
    "Now we simulate two agent populations of the different types: (1) Random, and (2) Rational.\n",
    "\n",
    "\n",
    "* **Random** \n",
    "\n",
    "The agent choose a random bundle on the budget line.\n",
    "\n",
    "* **Rational** \n",
    "\n",
    "The agent maximizes a Cobb-Douglas utility function subject to the budget constraint.\n",
    "\n",
    "\\begin{align}\n",
    "U(x_1, x_2) = x_1^\\alpha x_2^{1 - \\alpha}\n",
    "\\end{align}\n",
    "\n",
    "Before we dive into the details, let us visualize our code base as a Unified Modeling Language (UML) diagram. See [here](https://confluence.jetbrains.com/display/PYH/Working+with+UML+class+diagrams+in+PyCharm) for details on creating UML diagrams in *PyCharm*. \n",
    "\n",
    "*Agents*\n",
    "\n",
    "<img src=\"images/clsAgent.png\">\n",
    "\n",
    "*Economy*\n",
    "\n",
    "<img src=\"images/clsEconomy.png\">"
   ]
  },
  {
   "cell_type": "code",
   "execution_count": 5,
   "metadata": {
    "collapsed": false
   },
   "outputs": [],
   "source": [
    "# Simulate agent populations of different types\n",
    "agent_objs = dict()\n",
    "\n",
    "for type_ in ['random', 'rational']:\n",
    "    \n",
    "    agent_objs[type_] = []\n",
    "    \n",
    "    for _ in range(NUM_AGENTS):\n",
    "        \n",
    "        # Specify agent\n",
    "        if type_ =='rational':\n",
    "            agent_obj = RationalAgent()\n",
    "        elif type_ == 'random':\n",
    "            agent_obj = RandomAgent()\n",
    "        else:\n",
    "            raise AssertionError\n",
    "        \n",
    "        agent_obj.set_preference_parameter(ALPHA)\n",
    "\n",
    "        agent_obj.set_endowment(ENDOWMENT)\n",
    "        \n",
    "        # Collect a list fo agents, i.e. the population\n",
    "        agent_objs[type_] += [agent_obj]"
   ]
  },
  {
   "cell_type": "markdown",
   "metadata": {},
   "source": [
    "Let us get the market demands for different price schedules. "
   ]
  },
  {
   "cell_type": "code",
   "execution_count": 6,
   "metadata": {
    "collapsed": true
   },
   "outputs": [],
   "source": [
    "# Get market demands for varying price schedules\n",
    "market_demands = dict()\n",
    "\n",
    "for type_ in ['random', 'rational']:\n",
    "    \n",
    "    market_demands[type_] = []\n",
    "    \n",
    "    # Initialize economy with agent of particular types\n",
    "    economy_obj = EconomyCls(agent_objs[type_])\n",
    "    \n",
    "    # Vary price schedule for the seoncd good.\n",
    "    for p2 in PRICE_GRID:\n",
    "\n",
    "        # Construct market demand for second good\n",
    "        demand = economy_obj.get_aggregate_demand(P1, p2)[1]\n",
    "\n",
    "        # Scaling to average demand\n",
    "        demand = demand/float(NUM_AGENTS)\n",
    "        \n",
    "        # Collect demands\n",
    "        market_demands[type_] += [demand]"
   ]
  },
  {
   "cell_type": "markdown",
   "metadata": {},
   "source": [
    "Let us compare the demands for an individual agent. Of course, in the rational case all agents have exactly the same demand."
   ]
  },
  {
   "cell_type": "code",
   "execution_count": 7,
   "metadata": {
    "collapsed": true
   },
   "outputs": [],
   "source": [
    "# Draw a random agent from the population\n",
    "idx = np.random.random_integers(0, NUM_AGENTS - 1)\n",
    "\n",
    "# Select agent for further study\n",
    "agent_ration = agent_objs['rational'][idx]\n",
    "agent_random = agent_objs['random'][idx]\n",
    "\n",
    "# Obtain individual demands\n",
    "individual_demands = {}\n",
    "\n",
    "for type_ in ['rational', 'random']:\n",
    "    \n",
    "    # Initialize container for results\n",
    "    individual_demands[type_] = []\n",
    "    \n",
    "    # Select the relevant agent type\n",
    "    if type_ == 'rational':\n",
    "        agent_obj = agent_ration\n",
    "    elif type_ == 'random':\n",
    "        agent_obj = agent_random\n",
    "    \n",
    "    # Obtain individual demands as we vary the price\n",
    "    # of the second good.\n",
    "    for p2 in PRICE_GRID:\n",
    "\n",
    "        agent_obj.choose(P1, p2)\n",
    "        \n",
    "        individual_demands[type_] += [agent_obj.get_individual_demand()[1]]"
   ]
  },
  {
   "cell_type": "markdown",
   "metadata": {},
   "source": [
    "Let us visiualize the different individual demands as we increase the price of good 2."
   ]
  },
  {
   "cell_type": "code",
   "execution_count": 8,
   "metadata": {
    "collapsed": false
   },
   "outputs": [
    {
     "data": {
      "image/png": "[encoded data removed]",
      "text/plain": [
       "<matplotlib.figure.Figure at 0x7f2cc1478d50>"
      ]
     },
     "metadata": {},
     "output_type": "display_data"
    }
   ],
   "source": [
    "# Initialize canvas\n",
    "ax = plt.figure(figsize=(12,8)).add_subplot(111)\n",
    "\n",
    "# Plot demands by population types\n",
    "ax.plot(individual_demands['rational'], PRICE_GRID, label='Rational')\n",
    "ax.plot(individual_demands['random'], PRICE_GRID, label='Random')\n",
    "\n",
    "# Set title and axis labels\n",
    "plt.suptitle('Individual Demand for Good 2 by Agent ' + str(idx), fontsize=20)\n",
    "ax.set_xlabel(r'$\\bar{x_2}$', fontsize=20)\n",
    "ax.set_ylabel(r'$p_2$', fontsize=20)\n",
    "\n",
    "# Set up legend\n",
    "ax.legend(loc='upper center', bbox_to_anchor=(0.5, -0.10),\n",
    "    fancybox=False, frameon=False, shadow=False, ncol=2, fontsize=20)\n",
    "\n",
    "# Remove first element on y-axis\n",
    "ax.yaxis.get_major_ticks()[0].set_visible(False)\n",
    "plt.show()"
   ]
  },
  {
   "cell_type": "markdown",
   "metadata": {},
   "source": [
    "How about demands at the aggregate level?"
   ]
  },
  {
   "cell_type": "code",
   "execution_count": 9,
   "metadata": {
    "collapsed": false
   },
   "outputs": [
    {
     "data": {
      "image/png": "[encoded data removed]",
      "text/plain": [
       "<matplotlib.figure.Figure at 0x7f2cec444750>"
      ]
     },
     "metadata": {},
     "output_type": "display_data"
    }
   ],
   "source": [
    "# Initialize canvas\n",
    "ax = plt.figure(figsize=(12,8)).add_subplot(111)\n",
    "\n",
    "# Plot execution times by implementations\n",
    "ax.plot(market_demands['rational'], PRICE_GRID, label='Rational')\n",
    "ax.plot(market_demands['random'], PRICE_GRID, label='Random')\n",
    "\n",
    "# Set title and axis labels\n",
    "plt.suptitle('Average Demand for Good 2 in Population', fontsize=20)\n",
    "ax.set_xlabel(r'$\\bar{x_2}$', fontsize=20)\n",
    "ax.set_ylabel(r'$p_2$', fontsize=20)\n",
    "\n",
    "# Set up legend\n",
    "ax.legend(loc='upper center', bbox_to_anchor=(0.5, -0.10),\n",
    "    fancybox=False, frameon=False, shadow=False, ncol=2, fontsize=20)\n",
    "\n",
    "# Remove first element on y-axis\n",
    "ax.yaxis.get_major_ticks()[0].set_visible(False)\n",
    "plt.show()"
   ]
  },
  {
   "cell_type": "markdown",
   "metadata": {},
   "source": [
    "## Additional Resources\n",
    "\n",
    "\n",
    "**Prediction in Economics **\n",
    "\n",
    "Milton Friedman (1966). [Essays In Positive Economics](http://www.amazon.com/Essays-Positive-Economics-Phoenix-Books/dp/0226264033/ref=sr_1_1?ie=UTF8&qid=1430672274&sr=8-1&keywords=Essays+In+Positive+Economics). Chicago University Press, Chicago, IL.\n",
    "\n",
    "Friedrich August von Hayek (1975). [The Pretense of Knowledge](http://www.nobelprize.org/nobel_prizes/economic-sciences/laureates/1974/hayek-lecture.html). The Swedish Journal of Economics. 77(4): 433-442.\n",
    "\n",
    "**Object-Oriented Programming**\n",
    "\n",
    "http://www.python-course.eu/object_oriented_programming.php"
   ]
  }
 ],
 "metadata": {
  "kernelspec": {
   "display_name": "Python 2",
   "language": "python",
   "name": "python2"
  },
  "language_info": {
   "codemirror_mode": {
    "name": "ipython",
    "version": 2
   },
   "file_extension": ".py",
   "mimetype": "text/x-python",
   "name": "python",
   "nbconvert_exporter": "python",
   "pygments_lexer": "ipython2",
   "version": "2.7.9"
  }
 },
 "nbformat": 4,
 "nbformat_minor": 0
}
