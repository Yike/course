{
 "metadata": {
  "name": "",
  "signature": "sha256:d3c204498bf45f70ade6cdb830774629869e5ce3a6b83ecaef7e4cb31b9a5b43"
 },
 "nbformat": 3,
 "nbformat_minor": 0,
 "worksheets": [
  {
   "cells": [
    {
     "cell_type": "code",
     "collapsed": false,
     "input": [
      "print('hello world')"
     ],
     "language": "python",
     "metadata": {},
     "outputs": [
      {
       "output_type": "stream",
       "stream": "stdout",
       "text": [
        "hello world\n"
       ]
      }
     ],
     "prompt_number": 1
    },
    {
     "cell_type": "markdown",
     "metadata": {},
     "source": [
      "This was our first **Python** command."
     ]
    },
    {
     "cell_type": "markdown",
     "metadata": {},
     "source": [
      "Basic Python Explorations\n",
      "========================="
     ]
    },
    {
     "cell_type": "markdown",
     "metadata": {},
     "source": [
      "There are some minor differences between *Python2* and *Python3*. Let us consider an example:"
     ]
    },
    {
     "cell_type": "code",
     "collapsed": false,
     "input": [
      "# This is an inline comment: Python3\n",
      "print('hello world')\n",
      "\n",
      "# Python2\n",
      "print 'hello world'"
     ],
     "language": "python",
     "metadata": {},
     "outputs": [
      {
       "ename": "SyntaxError",
       "evalue": "invalid syntax (<ipython-input-3-7d0e8552180e>, line 5)",
       "output_type": "pyerr",
       "traceback": [
        "\u001b[0;36m  File \u001b[0;32m\"<ipython-input-3-7d0e8552180e>\"\u001b[0;36m, line \u001b[0;32m5\u001b[0m\n\u001b[0;31m    print 'hello world'\u001b[0m\n\u001b[0m                      ^\u001b[0m\n\u001b[0;31mSyntaxError\u001b[0m\u001b[0;31m:\u001b[0m invalid syntax\n"
       ]
      }
     ],
     "prompt_number": 3
    },
    {
     "cell_type": "markdown",
     "metadata": {},
     "source": [
      "Basic Types\n",
      "-----------\n",
      "\n",
      "We now look at the different types of objects that Python offers: floats, integers, booleans, lists, dictionaries, etc."
     ]
    },
    {
     "cell_type": "code",
     "collapsed": false,
     "input": [
      "1 * 1.0\n",
      "a = 3\n",
      "type(a)"
     ],
     "language": "python",
     "metadata": {},
     "outputs": [
      {
       "metadata": {},
       "output_type": "pyout",
       "prompt_number": 5,
       "text": [
        "builtins.int"
       ]
      }
     ],
     "prompt_number": 5
    },
    {
     "cell_type": "code",
     "collapsed": false,
     "input": [
      "b = 3 > 5\n",
      "print(b), type(b)"
     ],
     "language": "python",
     "metadata": {},
     "outputs": [
      {
       "output_type": "stream",
       "stream": "stdout",
       "text": [
        "False\n"
       ]
      },
      {
       "metadata": {},
       "output_type": "pyout",
       "prompt_number": 6,
       "text": [
        "(None, builtins.bool)"
       ]
      }
     ],
     "prompt_number": 6
    },
    {
     "cell_type": "markdown",
     "metadata": {},
     "source": [
      "Let us now turn to containers: lists, dictionaries. "
     ]
    },
    {
     "cell_type": "code",
     "collapsed": false,
     "input": [
      "L = ['red', 'blue', 'green', 'black', 'white']\n",
      "print(L)"
     ],
     "language": "python",
     "metadata": {},
     "outputs": [
      {
       "output_type": "stream",
       "stream": "stdout",
       "text": [
        "['red', 'blue', 'green', 'black', 'white']\n"
       ]
      }
     ],
     "prompt_number": 7
    },
    {
     "cell_type": "code",
     "collapsed": false,
     "input": [
      "L[1], L[3:], L[3:15]"
     ],
     "language": "python",
     "metadata": {},
     "outputs": [
      {
       "metadata": {},
       "output_type": "pyout",
       "prompt_number": 10,
       "text": [
        "('blue', ['black', 'white'], ['black', 'white'])"
       ]
      }
     ],
     "prompt_number": 10
    },
    {
     "cell_type": "markdown",
     "metadata": {},
     "source": [
      "Lists are **mutable** objects, i.e. they can be changed."
     ]
    },
    {
     "cell_type": "code",
     "collapsed": false,
     "input": [
      "L[1] = 'yellow'\n",
      "print(L)"
     ],
     "language": "python",
     "metadata": {},
     "outputs": [
      {
       "output_type": "stream",
       "stream": "stdout",
       "text": [
        "['red', 'yellow', 'green', 'black', 'white']\n"
       ]
      }
     ],
     "prompt_number": 11
    },
    {
     "cell_type": "markdown",
     "metadata": {},
     "source": [
      "What is an example of an **immutable** object? "
     ]
    },
    {
     "cell_type": "code",
     "collapsed": false,
     "input": [
      "T = ('red', 'black')\n",
      "T[1] = 'yellow'"
     ],
     "language": "python",
     "metadata": {},
     "outputs": [
      {
       "ename": "TypeError",
       "evalue": "'tuple' object does not support item assignment",
       "output_type": "pyerr",
       "traceback": [
        "\u001b[0;31m---------------------------------------------------------------------------\u001b[0m\n\u001b[0;31mTypeError\u001b[0m                                 Traceback (most recent call last)",
        "\u001b[0;32m<ipython-input-12-34af57d15608>\u001b[0m in \u001b[0;36m<module>\u001b[0;34m()\u001b[0m\n\u001b[1;32m      1\u001b[0m \u001b[0mT\u001b[0m \u001b[0;34m=\u001b[0m \u001b[0;34m(\u001b[0m\u001b[0;34m'red'\u001b[0m\u001b[0;34m,\u001b[0m \u001b[0;34m'black'\u001b[0m\u001b[0;34m)\u001b[0m\u001b[0;34m\u001b[0m\u001b[0m\n\u001b[0;32m----> 2\u001b[0;31m \u001b[0mT\u001b[0m\u001b[0;34m[\u001b[0m\u001b[0;36m1\u001b[0m\u001b[0;34m]\u001b[0m \u001b[0;34m=\u001b[0m \u001b[0;34m'yellow'\u001b[0m\u001b[0;34m\u001b[0m\u001b[0m\n\u001b[0m",
        "\u001b[0;31mTypeError\u001b[0m: 'tuple' object does not support item assignment"
       ]
      }
     ],
     "prompt_number": 12
    },
    {
     "cell_type": "markdown",
     "metadata": {},
     "source": [
      "Let us now turn to the distinction between **independent** copies and **references to objects**."
     ]
    },
    {
     "cell_type": "code",
     "collapsed": false,
     "input": [
      "print(L)\n",
      "G = L\n",
      "print(G,L)\n",
      "\n",
      "# But now:\n",
      "L[1] = 'blue'\n",
      "print(G,L)\n",
      "\n",
      "# Let us now create an independent copy:\n",
      "G = L[:]\n",
      "print('Independent: ', G, L)\n",
      "L[1] = 'yellow'\n",
      "print('Independent: ', G, L)\n"
     ],
     "language": "python",
     "metadata": {},
     "outputs": [
      {
       "output_type": "stream",
       "stream": "stdout",
       "text": [
        "['red', 'blue', 'green', 'black', 'white']\n",
        "['red', 'blue', 'green', 'black', 'white'] ['red', 'blue', 'green', 'black', 'white']\n",
        "['red', 'blue', 'green', 'black', 'white'] ['red', 'blue', 'green', 'black', 'white']\n",
        "Independent:  ['red', 'blue', 'green', 'black', 'white'] ['red', 'blue', 'green', 'black', 'white']\n",
        "Independent:  ['red', 'blue', 'green', 'black', 'white'] ['red', 'yellow', 'green', 'black', 'white']\n"
       ]
      }
     ],
     "prompt_number": 17
    },
    {
     "cell_type": "code",
     "collapsed": false,
     "input": [],
     "language": "python",
     "metadata": {},
     "outputs": []
    }
   ],
   "metadata": {}
  }
 ]
}