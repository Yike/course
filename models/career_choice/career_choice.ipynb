{
 "metadata": {
  "name": "",
  "signature": "sha256:23b754c1919e8aaae5043d17c65b546f341325f7e934351a76d431af3c0e78ae"
 },
 "nbformat": 3,
 "nbformat_minor": 0,
 "worksheets": [
  {
   "cells": [
    {
     "cell_type": "markdown",
     "metadata": {},
     "source": [
      "Modelling Carrer Choices\n",
      "========================\n",
      "\n",
      "The model is based on the following research paper:\n",
      "\n",
      "    Derek Neal (1999). The Complexity of Job Mobility among Young Men, Journal of Labor Economics, 17(2), 237-261.\n",
      "    \n",
      "The implementation draws heavily from the material provided on the *Quantitative Economics* website.\n",
      "\n",
      "   \n",
      "\n",
      "\n",
      "    \n"
     ]
    },
    {
     "cell_type": "markdown",
     "metadata": {},
     "source": [
      "Housekeeping\n",
      "------------"
     ]
    },
    {
     "cell_type": "code",
     "collapsed": false,
     "input": [
      "%matplotlib inline"
     ],
     "language": "python",
     "metadata": {},
     "outputs": [],
     "prompt_number": 1
    },
    {
     "cell_type": "markdown",
     "metadata": {},
     "source": [
      "Load Resources\n",
      "--------------"
     ]
    },
    {
     "cell_type": "code",
     "collapsed": false,
     "input": [
      "# libraries\n",
      "import scipy\n",
      "import numpy as np\n",
      "    \n",
      "# project library\n",
      "from support import *"
     ],
     "language": "python",
     "metadata": {},
     "outputs": [],
     "prompt_number": 2
    },
    {
     "cell_type": "markdown",
     "metadata": {},
     "source": [
      "Parametrization\n",
      "---------------"
     ]
    },
    {
     "cell_type": "code",
     "collapsed": false,
     "input": [
      "# Initialize container\n",
      "para = dict()\n",
      "\n",
      "# Preferences\n",
      "para['beta'] = 0.95  # Time preference\n",
      "\n",
      "# Distribution Grid\n",
      "para['B'] = 5.0      # Upper bound for both epsilon and theta\n",
      "para['N'] = 50       # Number of possible realizations for both epsilon and theta\n",
      "\n",
      "# Parametrization of Career Distribution\n",
      "para['F_a'], para['F_b'] = 1.0, 1.0\n",
      "para['G_a'], para['G_b'] = 1.0, 1.0\n"
     ],
     "language": "python",
     "metadata": {},
     "outputs": [],
     "prompt_number": 3
    },
    {
     "cell_type": "markdown",
     "metadata": {},
     "source": [
      "Derived Attributes\n",
      "----------"
     ]
    },
    {
     "cell_type": "code",
     "collapsed": false,
     "input": [
      "# Initialize container\n",
      "attr = dict()\n",
      "\n",
      "# Grid of random variables\n",
      "attr['theta']   = np.linspace(0, para['B'], para['N'])\n",
      "attr['epsilon'] = np.linspace(0, para['B'], para['N'])\n",
      "\n",
      "# Construct probabilities\n",
      "attr['F_probs'] = BetaBinomial(para['N'] - 1, para['F_a'], para['F_b']).pdf()\n",
      "attr['G_probs'] = BetaBinomial(para['N'] - 1, para['G_a'], para['G_b']).pdf()\n",
      "\n",
      "# Construct means.\n",
      "attr['F_mean'] = np.sum(attr['theta'] * attr['F_probs'])\n",
      "attr['G_mean'] = np.sum(attr['epsilon'] * attr['G_probs'])"
     ],
     "language": "python",
     "metadata": {},
     "outputs": [],
     "prompt_number": 4
    },
    {
     "cell_type": "markdown",
     "metadata": {},
     "source": [
      "Auxiliary Functions\n",
      "-------------------"
     ]
    },
    {
     "cell_type": "code",
     "collapsed": false,
     "input": [
      "def evaluate_alternative(which, para, attr, v, i, j):\n",
      "    ''' Evaluate alternatives\n",
      "    '''\n",
      "    \n",
      "    if which == 'Stay Put':\n",
      "        \n",
      "        eval_ = attr['theta'][i] + attr['epsilon'][j] + para['beta'] * v[i,j]\n",
      "        \n",
      "    elif which == 'New Job': \n",
      "        \n",
      "        eval_ = attr['theta'][i] + attr['G_mean'] + para['beta'] * np.dot(v[i,:], attr['G_probs'])\n",
      "        \n",
      "    elif which == 'New Occupation':\n",
      "        \n",
      "        eval_ = attr['G_mean'] + attr['F_mean'] + para['beta'] * np.dot(attr['F_probs'], np.dot(v, attr['G_probs']))\n",
      "        \n",
      "    else:\n",
      "        \n",
      "        raise AssertionError('Alternative misspecified.')\n",
      "        \n",
      "    # Finishing \n",
      "    return eval_\n",
      "    \n",
      "def get_greedy(v, para, attr):\n",
      "    ''' Compute optimal actions taking v as the value function\n",
      "    '''\n",
      "    # Initialize container\n",
      "    policy = np.empty(v.shape, dtype = int)\n",
      "\n",
      "    # Evalaute cases\n",
      "    for i in range(para['N']):\n",
      "        \n",
      "        for j in range(para['N']):\n",
      "            \n",
      "            values = [] \n",
      "            \n",
      "            for which in ['Stay Put', 'New Job', 'New Occupation']:\n",
      "                             \n",
      "                values += [evaluate_alternative(which, para, attr, v, i, j)]\n",
      "      \n",
      "            # Determine optimal policy\n",
      "            policy[i,j] = np.argmax(values) + 1\n",
      "            \n",
      "    # Finishing \n",
      "    return policy\n",
      "\n",
      "def bellman_operator(v, para, attr):\n",
      "    ''' The Bellman operator for the model.\n",
      "    '''\n",
      "    \n",
      "    # Initialize container\n",
      "    new_v = np.empty(v.shape, dtype = float)\n",
      "    \n",
      "    # Evalaute cases\n",
      "    for i in range(para['N']):\n",
      "\n",
      "        for j in range(para['N']):\n",
      "\n",
      "            values = [] \n",
      "            \n",
      "            for which in ['Stay Put', 'New Job', 'New Occupation']:\n",
      "                             \n",
      "                values += [evaluate_alternative(which, para, attr, v, i, j)]\n",
      "                \n",
      "            new_v[i,j] = np.amax(values)\n",
      "    \n",
      "    # Finishing \n",
      "    return new_v"
     ],
     "language": "python",
     "metadata": {},
     "outputs": [],
     "prompt_number": 5
    },
    {
     "cell_type": "markdown",
     "metadata": {},
     "source": [
      "Solving the Model\n",
      "-----------------"
     ]
    },
    {
     "cell_type": "code",
     "collapsed": false,
     "input": [
      "# Starting value\n",
      "v_init =  np.ones((para['N'],para['N']))*100\n",
      "\n",
      "# Determine fix point \n",
      "v = compute_fixed_point(bellman_operator, v_init, para, attr)\n",
      "\n",
      "# Determine optimal policy\n",
      "optimal_policy = get_greedy(v, para, attr)"
     ],
     "language": "python",
     "metadata": {},
     "outputs": [],
     "prompt_number": 6
    },
    {
     "cell_type": "markdown",
     "metadata": {},
     "source": [
      "Analysis\n",
      "--------"
     ]
    },
    {
     "cell_type": "heading",
     "level": 3,
     "metadata": {},
     "source": [
      "Plot the Optimal Policy"
     ]
    },
    {
     "cell_type": "code",
     "collapsed": false,
     "input": [
      "plot_optimal_policy(optimal_policy, attr)"
     ],
     "language": "python",
     "metadata": {},
     "outputs": [
      {
       "metadata": {},
       "output_type": "display_data",
       "png": "[encoded data removed]",
       "text": [
        "<matplotlib.figure.Figure at 0x7f8c19da4400>"
       ]
      }
     ],
     "prompt_number": 7
    },
    {
     "cell_type": "code",
     "collapsed": false,
     "input": [],
     "language": "python",
     "metadata": {},
     "outputs": [],
     "prompt_number": 7
    }
   ],
   "metadata": {}
  }
 ]
}