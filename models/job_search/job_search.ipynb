{
 "metadata": {
  "name": ""
 },
 "nbformat": 3,
 "nbformat_minor": 0,
 "worksheets": [
  {
   "cells": [
    {
     "cell_type": "markdown",
     "metadata": {},
     "source": [
      "Modelling On the Job Search\n",
      "===========================\n",
      "The implementation draws heavily from the material provided on the *Quantitative Economics* website."
     ]
    },
    {
     "cell_type": "heading",
     "level": 1,
     "metadata": {},
     "source": [
      "Load Resources"
     ]
    },
    {
     "cell_type": "code",
     "collapsed": false,
     "input": [
      "import numpy as np\n",
      "import matplotlib.pyplot as plt\n",
      "import scipy.stats as stats\n",
      "from scipy.optimize import minimize\n",
      "from scipy.integrate import fixed_quad as integrate\n",
      "import time\n",
      "from scipy import interp"
     ],
     "language": "python",
     "metadata": {},
     "outputs": [],
     "prompt_number": 1
    },
    {
     "cell_type": "heading",
     "level": 1,
     "metadata": {},
     "source": [
      "Parameterization"
     ]
    },
    {
     "cell_type": "code",
     "collapsed": false,
     "input": [
      "# production function\n",
      "A = 1.4\n",
      "alpha = 0.6\n",
      "G = lambda x, phi: A*(x*phi)**alpha\n",
      "\n",
      "# discount factor\n",
      "beta = 0.96\n",
      "\n",
      "# tolerence\n",
      "epsilon = 1e-4\n",
      "\n",
      "# minimization method\n",
      "method = \"COBYLA\"\n",
      "\n",
      "# probability of having a new job offer (a function of search effort)\n",
      "pi = np.sqrt\n",
      "\n",
      "# distribution of the new job offer\n",
      "F = stats.beta(2,2)\n",
      "\n",
      "# x_grid\n",
      "grid_size = 25\n",
      "grid_max = max(A**(1/(1-alpha)), F.ppf(1-epsilon))\n",
      "x_grid = np.linspace(epsilon, grid_max, grid_size)"
     ],
     "language": "python",
     "metadata": {},
     "outputs": [],
     "prompt_number": 2
    },
    {
     "cell_type": "heading",
     "level": 1,
     "metadata": {},
     "source": [
      "Bellman Operator"
     ]
    },
    {
     "cell_type": "code",
     "collapsed": false,
     "input": [
      "def bellman_operator(V, brute_force=False, return_policies=False):\n",
      "    \"\"\"\n",
      "    \n",
      "    Parameters \n",
      "    ----------\n",
      "    V: array_like(float)\n",
      "       Array representing an approximate value function\n",
      "    brute_force: bool, optional(default=False)\n",
      "                 Default is False. If the brute_force flag is True, then grid\n",
      "                 search is performed at each maximization step.\n",
      "    return_policies: bool, optional(default=False)\n",
      "                     Indicates whether to return just the updated value function TV or\n",
      "                     both the greedy policy computed from V and TV\n",
      "    \n",
      "    Returns\n",
      "    -------\n",
      "    new_V: array_like(float)\n",
      "           The updated value function Tv, as an array representing \n",
      "           the values TV(x) over x in x_grid.\n",
      "    s_policy: array_like(float)\n",
      "              The greedy policy computed from V. Only returned if return_policies == True\n",
      "    \"\"\"\n",
      "    \n",
      "    # set up\n",
      "    Vf = lambda x: interp(x, x_grid, V)\n",
      "    N = len(x_grid)\n",
      "    new_V, s_policy, phi_policy = np.empty(N), np.empty(N), np.empty(N)\n",
      "    a, b = F.ppf(0.005), F.ppf(0.995)\n",
      "    c1 = lambda z: 1 - sum(z) # used to enforce s+phi <= 1\n",
      "    c2 = lambda z: z[0] - epsilon # used to enforce s >= epsilon\n",
      "    c3 = lambda z: z[1] - epsilon # used to enforce phi >= epsilon\n",
      "    constraints = [{\"type\":\"ineq\",\"fun\":i} for i in [c1, c2, c3]]\n",
      "    guess = (0.2, 0.2)\n",
      "    \n",
      "    # solve r.h.s. of Bellman equation \n",
      "    \n",
      "    for i, x in enumerate(x_grid):\n",
      "        \n",
      "        # set up objective function\n",
      "        def w(z):\n",
      "            s, phi = z\n",
      "            h = lambda u: Vf(np.maximum(G(x,phi),u))*F.pdf(u)\n",
      "            integral, err = integrate(h,a,b)\n",
      "            q = pi(s)*integral + (1-pi(s))*Vf(G(x,phi))\n",
      "            # minus because we minimize\n",
      "            return -x*(1-s-phi) - beta*q\n",
      "        \n",
      "        # either use SciPy solver\n",
      "        if not brute_force:\n",
      "            max_s, max_phi = minimize(w, guess, constraints=constraints, method=method)[\"x\"]\n",
      "            max_val = -w((max_s,max_phi))\n",
      "        \n",
      "        # or search on a grid\n",
      "        else:\n",
      "            search_grid = np.linspace(epsilon, 1.0, 15)\n",
      "            max_val = -1.0\n",
      "            for s in search_grid:\n",
      "                for phi in search_grid:\n",
      "                    current_val = -w((s,phi)) if s + phi <= 1.0 else -1.0\n",
      "                    if current_val > max_val:\n",
      "                        max_val, max_s, max_phi = current_val, s, phi\n",
      "        \n",
      "        # store results\n",
      "        new_V[i] = max_val\n",
      "        s_policy[i], phi_policy[i] = max_s, max_phi\n",
      "    \n",
      "    if return_policies:\n",
      "        return s_policy, phi_policy\n",
      "    else:\n",
      "        return new_V"
     ],
     "language": "python",
     "metadata": {},
     "outputs": [],
     "prompt_number": 3
    },
    {
     "cell_type": "heading",
     "level": 1,
     "metadata": {},
     "source": [
      "Value Function Iterations"
     ]
    },
    {
     "cell_type": "code",
     "collapsed": false,
     "input": [
      "def compute_fixed_point(T, v, error_tol=1e-4, max_iter=50, verbose=1, print_skip=5, *args, **kwargs):\n",
      "    \"\"\"\n",
      "    Computes and returns T^k v, an approximate fixed point\n",
      "    Here T is an operator, v is an initial condition and k is the number of iterates.\n",
      "    Provided that T is a contraction mapping or similar, T^k v will be an approximation to be fixed point.\n",
      "    \n",
      "    Parameters\n",
      "    ----------\n",
      "    T: callable\n",
      "       function that acts on v\n",
      "    v: object\n",
      "       An object such that T(v) is defined\n",
      "    error_tol: scaler(float), optional(default=1e-3)\n",
      "               Error tolerance\n",
      "    max_iter: scaler(int), optional(default=True)\n",
      "              Maximum number of iterations\n",
      "    verbose: bool, optional(default=True)\n",
      "             If True, then print current error at each iterate.\n",
      "    args, kwargs:\n",
      "             Other arguments and keyword arguments that are passed directly to the \n",
      "             function T each time it is called.\n",
      "    \n",
      "    Returns\n",
      "    -------\n",
      "    v: object\n",
      "       The approximate fixed point\n",
      "    \"\"\"\n",
      "    \n",
      "    iterate = 0\n",
      "    error = error_tol + 1\n",
      "    \n",
      "    if verbose:\n",
      "        start_time = time.time()\n",
      "        msg = \"{i:<11}{d:<10}{t:<10}\".format(i=\"Iteration\",\n",
      "                                 d=\"Distance\",\n",
      "                                 t=\"Elapsed (seconds)\") # < means left alighned\n",
      "        print(msg)\n",
      "        print(\"-\"*len(msg))\n",
      "    \n",
      "    while iterate < max_iter and error > error_tol:\n",
      "        new_v = T(v, *args, **kwargs)\n",
      "        iterate += 1\n",
      "        error = np.max(np.abs(new_v - v))\n",
      "        \n",
      "        if verbose & (iterate%print_skip==0):\n",
      "            etime = time.time() - start_time\n",
      "            msg = \"{i:<11}{d:<10.3e}{t:<10.3e}\".format(i=iterate,d=error,t=etime)\n",
      "            print(msg)\n",
      "        v = new_v\n",
      "    return v"
     ],
     "language": "python",
     "metadata": {},
     "outputs": [],
     "prompt_number": 4
    },
    {
     "cell_type": "heading",
     "level": 1,
     "metadata": {},
     "source": [
      "Solving the Model"
     ]
    },
    {
     "cell_type": "code",
     "collapsed": false,
     "input": [
      "# starting value\n",
      "v_init = x_grid * 0.5\n",
      "\n",
      "# determine fix point using minimize\n",
      "V = compute_fixed_point(bellman_operator, v_init)\n",
      "print(V[0:5])"
     ],
     "language": "python",
     "metadata": {},
     "outputs": [
      {
       "output_type": "stream",
       "stream": "stderr",
       "text": [
        "-c:4: RuntimeWarning: invalid value encountered in double_scalars\n",
        "-c:44: RuntimeWarning: invalid value encountered in sqrt\n"
       ]
      },
      {
       "output_type": "stream",
       "stream": "stdout",
       "text": [
        "Iteration  Distance  Elapsed (seconds)\n",
        "--------------------------------------\n",
        "5          3.469e-01 1.731e+01 "
       ]
      },
      {
       "output_type": "stream",
       "stream": "stdout",
       "text": [
        "\n",
        "10         2.959e-01 2.558e+01 "
       ]
      },
      {
       "output_type": "stream",
       "stream": "stdout",
       "text": [
        "\n",
        "15         2.389e-01 3.413e+01 "
       ]
      },
      {
       "output_type": "stream",
       "stream": "stdout",
       "text": [
        "\n",
        "20         2.000e-01 4.159e+01 "
       ]
      },
      {
       "output_type": "stream",
       "stream": "stdout",
       "text": [
        "\n",
        "25         1.660e-01 4.965e+01 "
       ]
      },
      {
       "output_type": "stream",
       "stream": "stdout",
       "text": [
        "\n",
        "30         1.399e-01 5.853e+01 "
       ]
      },
      {
       "output_type": "stream",
       "stream": "stdout",
       "text": [
        "\n",
        "35         1.124e-01 6.855e+01 "
       ]
      },
      {
       "output_type": "stream",
       "stream": "stdout",
       "text": [
        "\n",
        "40         9.336e-02 7.878e+01 "
       ]
      },
      {
       "output_type": "stream",
       "stream": "stdout",
       "text": [
        "\n",
        "45         8.416e-02 9.000e+01 "
       ]
      },
      {
       "output_type": "stream",
       "stream": "stdout",
       "text": [
        "\n",
        "50         7.681e-02 9.972e+01 "
       ]
      },
      {
       "output_type": "stream",
       "stream": "stdout",
       "text": [
        "\n",
        "[ 8.34485292  8.34485292  8.34485424  8.62836112  8.73269308]\n"
       ]
      }
     ],
     "prompt_number": 5
    },
    {
     "cell_type": "code",
     "collapsed": false,
     "input": [
      "# starting value\n",
      "v_init = x_grid * 0.5\n",
      "\n",
      "# determine fix point using grid search\n",
      "V = compute_fixed_point(bellman_operator, v_init, brute_force=True)\n",
      "print(V[0:5])"
     ],
     "language": "python",
     "metadata": {},
     "outputs": [
      {
       "output_type": "stream",
       "stream": "stdout",
       "text": [
        "Iteration  Distance  Elapsed (seconds)\n",
        "--------------------------------------\n",
        "5          3.416e-01 1.204e+01 "
       ]
      },
      {
       "output_type": "stream",
       "stream": "stdout",
       "text": [
        "\n",
        "10         2.783e-01 2.180e+01 "
       ]
      },
      {
       "output_type": "stream",
       "stream": "stdout",
       "text": [
        "\n",
        "15         2.268e-01 3.150e+01 "
       ]
      },
      {
       "output_type": "stream",
       "stream": "stdout",
       "text": [
        "\n",
        "20         1.849e-01 4.554e+01 "
       ]
      },
      {
       "output_type": "stream",
       "stream": "stdout",
       "text": [
        "\n",
        "25         1.506e-01 5.857e+01 "
       ]
      },
      {
       "output_type": "stream",
       "stream": "stdout",
       "text": [
        "\n",
        "30         1.228e-01 6.945e+01 "
       ]
      },
      {
       "output_type": "stream",
       "stream": "stdout",
       "text": [
        "\n",
        "35         1.001e-01 8.295e+01 "
       ]
      },
      {
       "output_type": "stream",
       "stream": "stdout",
       "text": [
        "\n",
        "40         8.154e-02 9.691e+01 "
       ]
      },
      {
       "output_type": "stream",
       "stream": "stdout",
       "text": [
        "\n",
        "45         6.645e-02 1.083e+02 "
       ]
      },
      {
       "output_type": "stream",
       "stream": "stdout",
       "text": [
        "\n",
        "50         5.416e-02 1.186e+02 "
       ]
      },
      {
       "output_type": "stream",
       "stream": "stdout",
       "text": [
        "\n",
        "[ 8.37111027  8.37800488  8.50121498  8.64509141  8.76706845]\n"
       ]
      }
     ],
     "prompt_number": 6
    },
    {
     "cell_type": "heading",
     "level": 1,
     "metadata": {},
     "source": [
      "Plotting"
     ]
    },
    {
     "cell_type": "code",
     "collapsed": false,
     "input": [
      "# determine optimal policy\n",
      "s_policy, phi_policy = bellman_operator(V, return_policies=True)\n",
      "\n",
      "# === plot policies === #\n",
      "fig, ax = plt.subplots()\n",
      "ax.set_xlim(0, max(x_grid))\n",
      "ax.set_ylim(-0.1, 1.1)\n",
      "ax.plot(x_grid, phi_policy, 'b-', label='phi')\n",
      "ax.plot(x_grid, s_policy, 'g-', label='s')\n",
      "ax.set_xlabel(\"x\")\n",
      "ax.legend()\n",
      "plt.show()"
     ],
     "language": "python",
     "metadata": {},
     "outputs": [],
     "prompt_number": 7
    },
    {
     "cell_type": "code",
     "collapsed": false,
     "input": [],
     "language": "python",
     "metadata": {},
     "outputs": [],
     "prompt_number": 220
    },
    {
     "cell_type": "code",
     "collapsed": false,
     "input": [],
     "language": "python",
     "metadata": {},
     "outputs": [],
     "prompt_number": 10
    },
    {
     "cell_type": "code",
     "collapsed": false,
     "input": [],
     "language": "python",
     "metadata": {},
     "outputs": [],
     "prompt_number": 150
    },
    {
     "cell_type": "code",
     "collapsed": false,
     "input": [],
     "language": "python",
     "metadata": {},
     "outputs": [],
     "prompt_number": 223
    },
    {
     "cell_type": "code",
     "collapsed": false,
     "input": [],
     "language": "python",
     "metadata": {},
     "outputs": [],
     "prompt_number": 150
    },
    {
     "cell_type": "code",
     "collapsed": false,
     "input": [],
     "language": "python",
     "metadata": {},
     "outputs": [],
     "prompt_number": 223
    },
    {
     "cell_type": "code",
     "collapsed": false,
     "input": [],
     "language": "python",
     "metadata": {},
     "outputs": [],
     "prompt_number": 150
    },
    {
     "cell_type": "code",
     "collapsed": false,
     "input": [],
     "language": "python",
     "metadata": {},
     "outputs": []
    }
   ],
   "metadata": {}
  }
 ]
}
